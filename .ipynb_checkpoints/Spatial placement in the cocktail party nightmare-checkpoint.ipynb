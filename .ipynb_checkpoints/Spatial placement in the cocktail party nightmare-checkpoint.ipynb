{
 "cells": [
  {
   "cell_type": "markdown",
   "metadata": {},
   "source": [
    "## This notebook will focus on quantifying and creating a framework to calculate the received conspecific masker call levels due to variation in radial distance from the focal bat in the centre of the group. \n",
    "\n",
    "## We will first assume that the bat aggregations are in the form of a hexagonal array and use data from published literature to parametrise this assumption."
   ]
  },
  {
   "cell_type": "markdown",
   "metadata": {},
   "source": [
    "## The geometry of the bat aggregation :\n",
    "### We assume that all bats are placed at the centre point of hexagons in a 2d hexagonal lattice, with the nearest neighbour distance of $2a$, where $a$ is the length of the apothem of a regular hexagon.\n",
    "!['hex_lattice'](img/hexagonal_centre_array.png)\n"
   ]
  },
  {
   "cell_type": "markdown",
   "metadata": {},
   "source": [
    "## Based on this placement of bats as a hexagonal array - we can then calculate the approximate distance at which neighbours are arranged by placing them in rings. \n",
    "!['hex_arrayrings'](img/hex_array.jpg)\n",
    "\n",
    "#### The focal bat is located at the red dot, and all hexagons with dots of the same colour belong to the same 'ring'. Eg. blue dots are the closest, followed by green, followed by grey. \n"
   ]
  },
  {
   "cell_type": "markdown",
   "metadata": {
    "collapsed": false
   },
   "source": [
    "## Based on the symmetry of the hexagonal array, we can approximate that individuals in the first ring are at a distance of $2a$ from the focal bat, and individuals in every proceeding ring are at a radial distance of  $n\\times 2a$ where  $n = 1,2,3..N_{rings}$\n",
    "\n",
    "## Given this hexagonal array, we can also calculate the number of expected individuals in each ring , given by : $Number\\ of\\ conspecifics\\ (ring_{n}) = n \\times 6$"
   ]
  },
  {
   "cell_type": "code",
   "execution_count": 2,
   "metadata": {
    "collapsed": false
   },
   "outputs": [
    {
     "data": {
      "text/html": [
       "<table>\n",
       "<tbody>\n",
       "<tr><td>$n$</td><td>Number of conspecifics</td></tr>\n",
       "<tr><td>1  </td><td>6                     </td></tr>\n",
       "<tr><td>2  </td><td>12                    </td></tr>\n",
       "<tr><td>3  </td><td>18                    </td></tr>\n",
       "<tr><td>4  </td><td>24                    </td></tr>\n",
       "<tr><td>5  </td><td>30                    </td></tr>\n",
       "</tbody>\n",
       "</table>"
      ],
      "text/plain": [
       "<IPython.core.display.HTML object>"
      ]
     },
     "metadata": {},
     "output_type": "display_data"
    }
   ],
   "source": [
    "from IPython.display import HTML, display\n",
    "import tabulate # thanks ruffsl goo.gl/WnMRoY\n",
    "table = [\n",
    "    [ '$n$','Number of conspecifics'],\n",
    "[ '1', '6'],\n",
    "['2','12'],\n",
    "    ['3','18'],\n",
    "    ['4','24'],\n",
    "    ['5','30']\n",
    "]\n",
    "\n",
    "display(HTML(tabulate.tabulate(table,tablefmt='html')))"
   ]
  },
  {
   "cell_type": "markdown",
   "metadata": {},
   "source": [
    "## Knowing the radial distribution of conspecifics, and the number of individuals in each radial position - allows us to recreate the probability distribution of a call arriving from a particular radial distance - given that each individual is emitting independently of another. \n",
    "## If we assume from dense *Tadarida brasiliensis* swarms ([Theriault et al. 2010](dcommon.bu.edu/handle/2144/3803) )that nearest neighbour distance $2a = 0.5 m$, and that each bat is calling at a source level of $100\\ dB\\ SPL (1m)$, then we get the following probabilities for a focal bat receiving masking conspecific calls of differing intensities."
   ]
  },
  {
   "cell_type": "code",
   "execution_count": 3,
   "metadata": {
    "collapsed": false
   },
   "outputs": [
    {
     "name": "stdout",
     "output_type": "stream",
     "text": [
      "('Total number of bats in group: ', 36)\n"
     ]
    },
    {
     "data": {
      "text/html": [
       "<div>\n",
       "<style>\n",
       "    .dataframe thead tr:only-child th {\n",
       "        text-align: right;\n",
       "    }\n",
       "\n",
       "    .dataframe thead th {\n",
       "        text-align: left;\n",
       "    }\n",
       "\n",
       "    .dataframe tbody tr th {\n",
       "        vertical-align: top;\n",
       "    }\n",
       "</style>\n",
       "<table border=\"1\" class=\"dataframe\">\n",
       "  <thead>\n",
       "    <tr style=\"text-align: right;\">\n",
       "      <th></th>\n",
       "      <th>Ring Number</th>\n",
       "      <th>Radial distance</th>\n",
       "      <th>Radial distance,metres</th>\n",
       "      <th>Number of bats</th>\n",
       "      <th>Received level (dB SPL)</th>\n",
       "      <th>Fraction</th>\n",
       "    </tr>\n",
       "  </thead>\n",
       "  <tbody>\n",
       "    <tr>\n",
       "      <th>0</th>\n",
       "      <td>1</td>\n",
       "      <td>2a</td>\n",
       "      <td>0.5</td>\n",
       "      <td>6</td>\n",
       "      <td>106</td>\n",
       "      <td>0.17</td>\n",
       "    </tr>\n",
       "    <tr>\n",
       "      <th>1</th>\n",
       "      <td>2</td>\n",
       "      <td>4a</td>\n",
       "      <td>1.0</td>\n",
       "      <td>12</td>\n",
       "      <td>100</td>\n",
       "      <td>0.33</td>\n",
       "    </tr>\n",
       "    <tr>\n",
       "      <th>2</th>\n",
       "      <td>3</td>\n",
       "      <td>6a</td>\n",
       "      <td>1.5</td>\n",
       "      <td>18</td>\n",
       "      <td>94</td>\n",
       "      <td>0.50</td>\n",
       "    </tr>\n",
       "  </tbody>\n",
       "</table>\n",
       "</div>"
      ],
      "text/plain": [
       "   Ring Number Radial distance  Radial distance,metres  Number of bats  \\\n",
       "0            1              2a                     0.5               6   \n",
       "1            2              4a                     1.0              12   \n",
       "2            3              6a                     1.5              18   \n",
       "\n",
       "   Received level (dB SPL)  Fraction  \n",
       "0                      106      0.17  \n",
       "1                      100      0.33  \n",
       "2                       94      0.50  "
      ]
     },
     "execution_count": 3,
     "metadata": {},
     "output_type": "execute_result"
    }
   ],
   "source": [
    "import pandas as pd \n",
    "three_rings = pd.read_csv('three_ring_example.csv')\n",
    "three_rings.columns = ['Ring Number','Radial distance','Radial distance,metres',\n",
    "                       'Number of bats','Received level (dB SPL)','Fraction']\n",
    "total_num_bats = sum(three_rings['Number of bats'])\n",
    "print('Total number of bats in group: ',total_num_bats)\n",
    "three_rings"
   ]
  },
  {
   "cell_type": "markdown",
   "metadata": {},
   "source": [
    "## With this formulation, it is evident that even if a bat may be flying in a very large group - the primary maskers will be from the nearest neighbours. "
   ]
  },
  {
   "cell_type": "markdown",
   "metadata": {},
   "source": [
    "# Code Implementation:\n",
    "## The implementation of the hexagonal array arrangement of the bat group is through the resulting probability function of received masker levels. It is conservatively assumed that bats fly with a particular nearest-neighbour distance irrespective of their actual group size, and bats are 'filled' up from inner to outer rings. Having 'filled' up all of the required rings - the number of bats in each ring, the fraction of bats at each radial distance from the focal bat and the received levels are calculated as above - and used to recreate the probability of a focal bat hearing different masker levels. "
   ]
  },
  {
   "cell_type": "markdown",
   "metadata": {},
   "source": [
    "## Example 1 : \n",
    "## We will recreate a the masker level probability for a bat group size of 14 : \n",
    "## Only $n=2$ rings will be filled up, as $ 6 +8$ bats take up two rings at the most, resulting in the following table : "
   ]
  },
  {
   "cell_type": "code",
   "execution_count": 4,
   "metadata": {
    "collapsed": false
   },
   "outputs": [
    {
     "data": {
      "text/html": [
       "<div>\n",
       "<style>\n",
       "    .dataframe thead tr:only-child th {\n",
       "        text-align: right;\n",
       "    }\n",
       "\n",
       "    .dataframe thead th {\n",
       "        text-align: left;\n",
       "    }\n",
       "\n",
       "    .dataframe tbody tr th {\n",
       "        vertical-align: top;\n",
       "    }\n",
       "</style>\n",
       "<table border=\"1\" class=\"dataframe\">\n",
       "  <thead>\n",
       "    <tr style=\"text-align: right;\">\n",
       "      <th></th>\n",
       "      <th>Ring Number</th>\n",
       "      <th>Radial distance</th>\n",
       "      <th>Radial distance,metres</th>\n",
       "      <th>Number of bats</th>\n",
       "      <th>Received level (dB SPL)</th>\n",
       "      <th>Fraction</th>\n",
       "    </tr>\n",
       "  </thead>\n",
       "  <tbody>\n",
       "    <tr>\n",
       "      <th>0</th>\n",
       "      <td>1</td>\n",
       "      <td>2a</td>\n",
       "      <td>0.5</td>\n",
       "      <td>6</td>\n",
       "      <td>106</td>\n",
       "      <td>0.428571</td>\n",
       "    </tr>\n",
       "    <tr>\n",
       "      <th>1</th>\n",
       "      <td>2</td>\n",
       "      <td>4a</td>\n",
       "      <td>1.0</td>\n",
       "      <td>8</td>\n",
       "      <td>100</td>\n",
       "      <td>0.571429</td>\n",
       "    </tr>\n",
       "  </tbody>\n",
       "</table>\n",
       "</div>"
      ],
      "text/plain": [
       "   Ring Number Radial distance  Radial distance,metres  Number of bats  \\\n",
       "0            1              2a                     0.5               6   \n",
       "1            2              4a                     1.0               8   \n",
       "\n",
       "   Received level (dB SPL)  Fraction  \n",
       "0                      106  0.428571  \n",
       "1                      100  0.571429  "
      ]
     },
     "execution_count": 4,
     "metadata": {},
     "output_type": "execute_result"
    }
   ],
   "source": [
    "example = three_rings.copy()\n",
    "example = example.iloc[:-1,:]\n",
    "example['Number of bats'] = [6,8]\n",
    "example['Fraction'] = example['Number of bats']/sum(example['Number of bats'])\n",
    "example"
   ]
  },
  {
   "cell_type": "markdown",
   "metadata": {
    "collapsed": true
   },
   "source": [
    "## Example 2 :\n",
    "\n",
    "## Now, let's try an example with 30 bats : \n",
    "\n",
    "## With 30 bats, we have 3 rings filled up as from $n=1$ we have 6 bats, from $n=2$ we have 12, and from the third ring $n=3$, we will have only 12 bats. "
   ]
  },
  {
   "cell_type": "code",
   "execution_count": 9,
   "metadata": {
    "collapsed": false
   },
   "outputs": [
    {
     "data": {
      "text/html": [
       "<div>\n",
       "<style>\n",
       "    .dataframe thead tr:only-child th {\n",
       "        text-align: right;\n",
       "    }\n",
       "\n",
       "    .dataframe thead th {\n",
       "        text-align: left;\n",
       "    }\n",
       "\n",
       "    .dataframe tbody tr th {\n",
       "        vertical-align: top;\n",
       "    }\n",
       "</style>\n",
       "<table border=\"1\" class=\"dataframe\">\n",
       "  <thead>\n",
       "    <tr style=\"text-align: right;\">\n",
       "      <th></th>\n",
       "      <th>Ring Number</th>\n",
       "      <th>Radial distance</th>\n",
       "      <th>Radial distance,metres</th>\n",
       "      <th>Number of bats</th>\n",
       "      <th>Received level (dB SPL)</th>\n",
       "      <th>Fraction</th>\n",
       "    </tr>\n",
       "  </thead>\n",
       "  <tbody>\n",
       "    <tr>\n",
       "      <th>0</th>\n",
       "      <td>1</td>\n",
       "      <td>2a</td>\n",
       "      <td>0.5</td>\n",
       "      <td>6</td>\n",
       "      <td>106</td>\n",
       "      <td>0.2</td>\n",
       "    </tr>\n",
       "    <tr>\n",
       "      <th>1</th>\n",
       "      <td>2</td>\n",
       "      <td>4a</td>\n",
       "      <td>1.0</td>\n",
       "      <td>12</td>\n",
       "      <td>100</td>\n",
       "      <td>0.4</td>\n",
       "    </tr>\n",
       "    <tr>\n",
       "      <th>2</th>\n",
       "      <td>3</td>\n",
       "      <td>6a</td>\n",
       "      <td>1.5</td>\n",
       "      <td>12</td>\n",
       "      <td>94</td>\n",
       "      <td>0.4</td>\n",
       "    </tr>\n",
       "  </tbody>\n",
       "</table>\n",
       "</div>"
      ],
      "text/plain": [
       "   Ring Number Radial distance  Radial distance,metres  Number of bats  \\\n",
       "0            1              2a                     0.5               6   \n",
       "1            2              4a                     1.0              12   \n",
       "2            3              6a                     1.5              12   \n",
       "\n",
       "   Received level (dB SPL)  Fraction  \n",
       "0                      106       0.2  \n",
       "1                      100       0.4  \n",
       "2                       94       0.4  "
      ]
     },
     "execution_count": 9,
     "metadata": {},
     "output_type": "execute_result"
    }
   ],
   "source": [
    "example2 = three_rings.copy()\n",
    "example2['Number of bats'] = [6,12,12]\n",
    "example2['Fraction'] = example2['Number of bats']/sum(example2['Number of bats'])\n",
    "example2"
   ]
  },
  {
   "cell_type": "markdown",
   "metadata": {},
   "source": [
    "## With these two examples, it becomes evident how the numbers of bats in different rings affects the overal probability of call intensities received by our focal bat."
   ]
  },
  {
   "cell_type": "code",
   "execution_count": 3,
   "metadata": {
    "collapsed": false
   },
   "outputs": [
    {
     "name": "stdout",
     "output_type": "stream",
     "text": [
      "(array([[ 106.02059991,  100.        ]]), array([6, 4]))\n"
     ]
    }
   ],
   "source": [
    "from the_cocktail_party_nightmare_MC import *\n",
    "num_bats = 100\n",
    "nbr_dist = 0.7\n",
    "SL = {'intensity':100,'ref_distance':1.0}\n",
    "print(implement_hexagonal_spatial_arrangement(num_bats,0.5,SL))\n",
    "\n"
   ]
  },
  {
   "cell_type": "code",
   "execution_count": null,
   "metadata": {
    "collapsed": true
   },
   "outputs": [],
   "source": []
  }
 ],
 "metadata": {
  "anaconda-cloud": {},
  "kernelspec": {
   "display_name": "Python [conda root]",
   "language": "python",
   "name": "conda-root-py"
  },
  "language_info": {
   "codemirror_mode": {
    "name": "ipython",
    "version": 2
   },
   "file_extension": ".py",
   "mimetype": "text/x-python",
   "name": "python",
   "nbconvert_exporter": "python",
   "pygments_lexer": "ipython2",
   "version": "2.7.12"
  }
 },
 "nbformat": 4,
 "nbformat_minor": 1
}
