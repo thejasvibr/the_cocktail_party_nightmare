{
 "cells": [
  {
   "cell_type": "markdown",
   "metadata": {},
   "source": [
    "# This notebook will attempt to understand how much jamming a bat may be experiencing as it echolocates in groups using an analytical modelling approach. \n"
   ]
  },
  {
   "cell_type": "markdown",
   "metadata": {},
   "source": [
    "### We begin by assuming a single bat flying a group of conspecific echolocators. Our focal bat is trying to keep track of 3 echoes (for starters) in a group of Nbats, which are independently emitting 1 call/ 100milliseconds. \n",
    "#### *(we will vary these parameters later and see what effect it has !)\n",
    "\n",
    "### Our focal bat also emits calls at 1call/100ms, with a duration of 3ms. It also suffers from forward and backward masking as it tries to listen to the three target echoes. We assume that if a conspecific call arrives within the timeperiods before (forward masking window) or after (backward masking window) - an echo is considered not to be heard\n",
    "\n",
    "### We also assume, for simplicity, that the focal bat does not hear anything as it emits its FM sweep - and thereby only focus our analysis of echo perception duing the pulse interval, of 100 milliseconds. "
   ]
  },
  {
   "cell_type": "code",
   "execution_count": 221,
   "metadata": {
    "collapsed": false
   },
   "outputs": [
    {
     "data": {
      "text/html": [
       "<img src=\"img/focal_bat_in_group.png\",width=15,height=15>"
      ],
      "text/plain": [
       "<IPython.core.display.HTML object>"
      ]
     },
     "metadata": {},
     "output_type": "display_data"
    }
   ],
   "source": [
    "%%html\n",
    "<img src=\"img/focal_bat_in_group.png\",width=15,height=15>"
   ]
  },
  {
   "cell_type": "markdown",
   "metadata": {},
   "source": [
    "\n",
    "### We justify the bat keeping track of only three echoes for now, based on studies of collective behaviour - which show that individuals need to respond to only a few conspecifics in their close proximity to avoid collisions and maintain group flight [refs].\n",
    "\n",
    "### We try to quantify in this modelling exercise, how often:\n",
    "\n",
    "###   > the bat can hear all 3 echoes clearly\n",
    "###   > .... can hear at least 2 echoes clearly\n",
    "###   > .... can hear at least 1 echo clearly\n",
    "###   > .... cannot hear any of the echoes \n",
    "\n"
   ]
  },
  {
   "cell_type": "markdown",
   "metadata": {},
   "source": [
    "### We now discretise the 100ms pulse interval within which our focal bat is listening into 3ms bins. This gives us 33 bins within each pulse interval. We choose 3ms as it is the duration of the call and echo. \n",
    "\n",
    "\n",
    "### The discretisation of the pulse interval into 33 bins allows us to calculate how often echoes will be heard. \n",
    "### The probability of any one echo being heard is calculated by how often calls will arrive in the forward and backward masking windows around the echo. This can be calculated by counting at how many configurations of Ncalls are possible without masking an echo, and dividing it by total number of (unconstrained) combinations.\n",
    "\n",
    "### The same logic can be applied for two and three echoes. The probability of no echo being heard is given by :\n",
    "###  * P(no echo heard) = 1 -  { P(1 echo heard) + P(2 echoes heard) + P(3 echoes heard) }*\n",
    "\n"
   ]
  },
  {
   "cell_type": "code",
   "execution_count": 222,
   "metadata": {
    "collapsed": false
   },
   "outputs": [
    {
     "data": {
      "text/html": [
       "<img src=\"img/echo_in_pulsE_interval.png\",width=15,height=15>"
      ],
      "text/plain": [
       "<IPython.core.display.HTML object>"
      ]
     },
     "metadata": {},
     "output_type": "display_data"
    }
   ],
   "source": [
    "%%html\n",
    "<img src=\"img/echo_in_pulsE_interval.png\",width=15,height=15>"
   ]
  },
  {
   "cell_type": "markdown",
   "metadata": {},
   "source": [
    "# Single echo with $N$ calls :"
   ]
  },
  {
   "cell_type": "markdown",
   "metadata": {},
   "source": [
    "### Let's do the calculation for the simple case of one echo, with $Ncalls$ per pulse interval. For the echo to be heard we must calculate the proportion of configurations where the calls can be placed out of the masking window. \n",
    "\n",
    "#### $P(\\ echo\\ being\\ heard\\ ) = \\frac{ Num\\ Configurations\\  ( Ncalls\\ outside\\ of\\ masking\\ window)}{Total\\ Number\\ of\\ Configurations} $\n",
    "\n"
   ]
  },
  {
   "cell_type": "markdown",
   "metadata": {},
   "source": [
    "\n",
    "\n",
    "\n",
    "### The total number of configurations is basically the equivalent of placing $N$ indistinguishable calls into $B$ distinguishable timebins *without exclusion*\n",
    "\n",
    "### This is calculated by $${Ncalls + Bbins -1  \\choose Bbins}$$\n",
    "\n",
    "ref :  http://cns-web.bu.edu/~eric/EC500/attachments/ON(2d)LINE(20)READINGS/ballsinboxe.pdf\n",
    "\n",
    "\n"
   ]
  },
  {
   "cell_type": "markdown",
   "metadata": {},
   "source": [
    "### The number of configurations where the echo is heard is , using similar logic , the equivalent of placing $N$ calls in $B-maskingwindow$ bins , also calculate by :\n",
    "\n",
    "### $${Ncalls + (Bbins - maskingwindow) -1  \\choose (Bbins-maskingwindow )}$$\n",
    "\n"
   ]
  },
  {
   "cell_type": "markdown",
   "metadata": {},
   "source": [
    "\n",
    "### We can then calculate the P(echo being heard) as :\n",
    "\n",
    "\\begin{equation*}\n",
    "\\frac{{Ncalls + (Bbins - maskingwindow) -1  \\choose (Bbins-maskingwindow )} }{{Ncalls + Bbins -1  \\choose Bbins}}\n",
    "\\end{equation*}"
   ]
  },
  {
   "cell_type": "markdown",
   "metadata": {},
   "source": [
    "### Let's now begin to substitute our numbers into the above equations and get a sense of the frequency at which echo-masking occurs. In the one echo situation, the bat either hears the echo or doesn't. We calculate the probability of the bat hearing this single echo in the presence of  Ncalls. \n",
    "\n",
    "### We assume, with reference to literature the following forward and backward masking windows :\n",
    "\n",
    "### Forward masking window of 6 ms (Ruihong et al. 2003) == 2 bins\n",
    "### Backward masking window of 2 ms ( Mohl & Surlykke 1989) == 1 bin\n",
    "### These two imply a masking window of 2 + 1 + 1   = 4 bins , where the last 1 bin includes the echo itself\n",
    "\n",
    "### With the above numbers, let's calculate the probability of one echo being heard in the presence of $N = 1....10$ calls during the pulse interval . \n"
   ]
  },
  {
   "cell_type": "code",
   "execution_count": 1,
   "metadata": {
    "collapsed": false
   },
   "outputs": [],
   "source": [
    "from __future__ import division\n",
    "import numpy as np\n",
    "import scipy\n",
    "from scipy import misc \n",
    "import matplotlib.pyplot as plt\n",
    "\n",
    "def prob_1echo_heard(Ncalls=3,Bbins=33,maskingwindow=4):\n",
    "    '''\n",
    "    '''\n",
    "    if Ncalls==1:\n",
    "        \n",
    "        total_num_ways = Bbins\n",
    "        num_ways_echo_heard = Bbins - maskingwindow\n",
    "        \n",
    "    \n",
    "    elif Ncalls >1 :\n",
    "        total_num_ways  = misc.comb( Ncalls+Bbins-1, Ncalls )\n",
    "        num_ways_echo_heard = misc.comb( Ncalls+Bbins-maskingwindow-1, Ncalls   )\n",
    "\n",
    "    p_echo_heard = num_ways_echo_heard / np.float64(total_num_ways)\n",
    "     \n",
    "    #print(num_ways_echo_heard,total_num_ways)\n",
    "    return(p_echo_heard)"
   ]
  },
  {
   "cell_type": "code",
   "execution_count": 201,
   "metadata": {
    "collapsed": false
   },
   "outputs": [],
   "source": [
    "ncalls_values = range(1,20)\n",
    "p_across_ncalls = np.array( [prob_1echo_heard(each_ncallvalue) for each_ncallvalue in ncalls_values])"
   ]
  },
  {
   "cell_type": "code",
   "execution_count": 202,
   "metadata": {
    "collapsed": false
   },
   "outputs": [
    {
     "data": {
      "text/plain": [
       "<matplotlib.text.Text at 0x1d105860>"
      ]
     },
     "execution_count": 202,
     "metadata": {},
     "output_type": "execute_result"
    },
    {
     "data": {
      "image/png": "[encoded data removed]",
      "text/plain": [
       "<matplotlib.figure.Figure at 0x1c38f780>"
      ]
     },
     "metadata": {},
     "output_type": "display_data"
    }
   ],
   "source": [
    "%matplotlib inline\n",
    "plt.figure(1,figsize=(10,8))\n",
    "plt.plot(ncalls_values,p_across_ncalls,'*-');plt.grid();\n",
    "plt.xlabel('Ncalls in pulse interval');plt.ylabel('P(echo being heard)')\n",
    "plt.xlim(0,np.max(ncalls_values));plt.ylim(0,1);plt.xticks(np.arange(1,np.max(ncalls_values),2));\n",
    "plt.axhline(0.5);plt.text(9.3,0.52,'50% line')\n",
    "np.argmin((abs(0.5-p_across_ncalls)));plt.title('Probability of a single echo being heard vs Ncalls')"
   ]
  },
  {
   "cell_type": "markdown",
   "metadata": {},
   "source": [
    "# Two echoes with $N$ calls :"
   ]
  },
  {
   "cell_type": "markdown",
   "metadata": {},
   "source": [
    "### Having looked at the simplest case possible, let's look at the case where we have *two* echoes being tracked, and N calls in the pulse interval. \n",
    "\n",
    "### The two echoes are assumed to be non-overlapping, and well-spaced, so that their maskingwindows are also non-overlapping. This allows us to calculate the number of configurations with:\n",
    "\n",
    "\\begin{equation*}\n",
    "P(both\\ echoes\\ heard) = \\frac{ NumConfigurations \\ ( Ncalls\\ outside\\ of\\ maskingwindows)}{ Total \\ Number \\ of \\ Configurations }\n",
    "\\end{equation*}\n",
    "\n",
    "### The total number of ways one can place $N$ calls in $B$ - $ (2 \\times maskingwindows)$ bins is :\n",
    "\n",
    "\n",
    "\\begin{equation*}\n",
    "Num \\ ways\\ 2\\ echoes\\ heard = {Ncalls + Bbins - (2 \\times maskingwindow) -1  \\choose Ncalls}\n",
    "\\end{equation*}\n",
    "\n",
    "### And so $P\\ (both \\ echoes \\ heard) = \\frac{{Ncalls + Bbins - (2 \\times maskingwindow) - 1  \\choose Ncalls}}{{Ncalls + Bbins -1  \\choose Ncalls}} $"
   ]
  },
  {
   "cell_type": "code",
   "execution_count": 205,
   "metadata": {
    "collapsed": false
   },
   "outputs": [],
   "source": [
    "def prob_n_echoes_heard(Ncalls=3,Bbins=33,maskingwindow=4,n=2):\n",
    "    if Ncalls==1:\n",
    "\n",
    "        total_num_ways = Bbins\n",
    "        num_ways_echo_heard = Bbins - maskingwindow*n\n",
    "\n",
    "\n",
    "    elif Ncalls >1 :\n",
    "        total_num_ways  = misc.comb( Ncalls+Bbins-1, Ncalls )\n",
    "        num_ways_echo_heard = misc.comb( Ncalls+Bbins- n*maskingwindow-1, Ncalls   )\n",
    "\n",
    "    p_echo_heard = num_ways_echo_heard / float(total_num_ways)\n",
    "    #print(num_ways_echo_heard,total_num_ways)\n",
    "\n",
    "    return(p_echo_heard)\n"
   ]
  },
  {
   "cell_type": "code",
   "execution_count": 206,
   "metadata": {
    "collapsed": false
   },
   "outputs": [
    {
     "data": {
      "text/plain": [
       "<matplotlib.text.Text at 0x2eebf6a0>"
      ]
     },
     "execution_count": 206,
     "metadata": {},
     "output_type": "execute_result"
    },
    {
     "data": {
      "image/png": "[encoded data removed]",
      "text/plain": [
       "<matplotlib.figure.Figure at 0x26b3f160>"
      ]
     },
     "metadata": {},
     "output_type": "display_data"
    }
   ],
   "source": [
    "p_both_echoesheard = [ prob_n_echoes_heard(each_ncalls) for each_ncalls in ncalls_values]\n",
    "plt.figure(2,figsize=(10,8))\n",
    "plt.plot(ncalls_values,p_both_echoesheard,'*-');plt.grid();\n",
    "plt.xlabel('Ncalls in pulse interval');plt.ylabel('P( both echoes being heard)')\n",
    "plt.xlim(0,np.max(ncalls_values));plt.ylim(0,1);plt.xticks(np.arange(1,np.max(ncalls_values),2));\n",
    "plt.axhline(0.5);plt.text(9.3,0.52,'50% line')\n",
    "np.argmin((abs(0.5-p_across_ncalls)));plt.title('Probability of a *both* echo being heard vs Ncalls')"
   ]
  },
  {
   "cell_type": "markdown",
   "metadata": {},
   "source": [
    "###  What when there are three echoes - what is the situation then ? (without deriving the probability):\n"
   ]
  },
  {
   "cell_type": "code",
   "execution_count": 207,
   "metadata": {
    "collapsed": false
   },
   "outputs": [
    {
     "data": {
      "text/plain": [
       "<matplotlib.text.Text at 0x3ec95ac8>"
      ]
     },
     "execution_count": 207,
     "metadata": {},
     "output_type": "execute_result"
    },
    {
     "data": {
      "image/png": "[encoded data removed]",
      "text/plain": [
       "<matplotlib.figure.Figure at 0x2eeb46d8>"
      ]
     },
     "metadata": {},
     "output_type": "display_data"
    }
   ],
   "source": [
    "p_3_echoes_heard = np.array( [   prob_n_echoes_heard(Ncalls=each_ncall,n=3)   for each_ncall in ncalls_values] )\n",
    "plt.figure(3,figsize=(10,8))\n",
    "plt.plot(ncalls_values,p_3_echoes_heard,'*-');plt.grid();\n",
    "plt.xlabel('Ncalls in pulse interval');plt.ylabel('P( all 3 echoes being heard)')\n",
    "plt.xlim(0,np.max(ncalls_values));plt.ylim(0,1);plt.xticks(np.arange(1,np.max(ncalls_values),2));\n",
    "plt.axhline(0.5);plt.text(9.3,0.52,'50% line')\n",
    "np.argmin((abs(0.5-p_across_ncalls)));plt.title('Probability of all three echoes being heard vs Ncalls')"
   ]
  },
  {
   "cell_type": "markdown",
   "metadata": {},
   "source": [
    "# 3 echoes, Ncalls, with 'echo glimpsing'"
   ]
  },
  {
   "cell_type": "markdown",
   "metadata": {},
   "source": [
    "### It seems evident above , that the bat can only hear all three echoes < 50% of the time ! However, perhaps our focal bat does not always need to hear all echoes at the same time. \n",
    "\n",
    "### Given that it is keeping track of 3 echoes, let us see how often it can actually detect 1 echo, 2 echoes, all three echoes, and NO echoes. \n",
    "\n",
    "### We take on a computational approach here instead because I tried it analytically, and it gets a bit tricky when one wants to look at the number of unique configurations possible which result in P(1 echo heard) !! \n",
    "\n",
    "### We will now simulate $N$ calls, where $N = 1...7$ calls per pulse interval, with three target echoes. Having calculated all possible ways to spread the calls in the pulse interval, we will then calculate the probability of the different number of echoes being heard.\n",
    "\n"
   ]
  },
  {
   "cell_type": "code",
   "execution_count": 11,
   "metadata": {
    "collapsed": false
   },
   "outputs": [
    {
     "name": "stdout",
     "output_type": "stream",
     "text": [
      "('', 561L)\n"
     ]
    }
   ],
   "source": [
    "# code credit: https://stackoverflow.com/questions/996004/enumeration-of-combinations-of-n-balls-in-a-boxes\n",
    "def balls_in_baskets(balls=1, baskets=1):\n",
    "    if baskets == 1:\n",
    "        yield [balls]\n",
    "    elif balls == 0:\n",
    "        yield [0]*baskets\n",
    "    else:\n",
    "        for i in xrange(balls+1):\n",
    "            for j in balls_in_baskets(balls-i, 1):\n",
    "                for k in balls_in_baskets(i, baskets-1):\n",
    "                    yield j+k\n",
    "\n",
    "combins = [ i for i in balls_in_baskets(2,33)]\n",
    "all_combs = np.array(combins)\n",
    "num_combs = all_combs.shape[0]\n",
    "print( '', num_combs )\n",
    "#all_combs"
   ]
  },
  {
   "cell_type": "code",
   "execution_count": 14,
   "metadata": {
    "collapsed": false
   },
   "outputs": [
    {
     "data": {
      "text/plain": [
       "2760681"
      ]
     },
     "execution_count": 14,
     "metadata": {},
     "output_type": "execute_result"
    }
   ],
   "source": [
    "# code credit: https://stackoverflow.com/questions/37711817/generate-all-possible-outcomes-of-k-balls-in-n-bins-sum-of-multinomial-catego\n",
    "import itertools, operator\n",
    "def combinations_with_replacement_counts(n, r):\n",
    "    size = n + r - 1\n",
    "    for indices in itertools.combinations(range(size), n-1):\n",
    "        starts = [0] + [index+1 for index in indices]\n",
    "        stops = indices + (size,)\n",
    "        yield tuple(map(operator.sub, stops, starts))\n",
    "\n",
    "y = list(combinations_with_replacement_counts(33,6))\n",
    "len(y)"
   ]
  },
  {
   "cell_type": "code",
   "execution_count": 18,
   "metadata": {
    "collapsed": false
   },
   "outputs": [
    {
     "data": {
      "text/plain": [
       "(0,\n",
       " 0,\n",
       " 0,\n",
       " 0,\n",
       " 0,\n",
       " 0,\n",
       " 0,\n",
       " 0,\n",
       " 0,\n",
       " 0,\n",
       " 0,\n",
       " 0,\n",
       " 0,\n",
       " 0,\n",
       " 0,\n",
       " 0,\n",
       " 0,\n",
       " 0,\n",
       " 0,\n",
       " 0,\n",
       " 0,\n",
       " 0,\n",
       " 1,\n",
       " 0,\n",
       " 0,\n",
       " 0,\n",
       " 0,\n",
       " 2,\n",
       " 0,\n",
       " 3,\n",
       " 0,\n",
       " 0,\n",
       " 0)"
      ]
     },
     "execution_count": 18,
     "metadata": {},
     "output_type": "execute_result"
    }
   ],
   "source": []
  },
  {
   "cell_type": "code",
   "execution_count": null,
   "metadata": {
    "collapsed": true
   },
   "outputs": [],
   "source": [
    "def calculate_fraction_echoes(all_combinations,nechoes=3,maskingwindow=1):\n",
    "    '''\n",
    "    Given a set of combinations of indistinguishable balls in distinguishable boxes\n",
    "    - counts the number of cases where the 'echoes' could be heard as decided by the maskingwindow \n",
    "    \n",
    "    Input:\n",
    "    all_combinations: list with sublists. each entry in the sublist has the number of balls in that box\n",
    "    nechoes : number of target echoes\n",
    "    maskingwindow: the number of boxes (including one box for the echo) which are to be considered \n",
    "    \n",
    "    Output:\n",
    "    P_echoes : list with fractions of cases where 0 ,1,2...nechoes are audible.\n",
    "    \n",
    "    The masking window is a composite window treated as a block of time within which a call is not supposed to be registered \n",
    "    for an echo to be heard    \n",
    "    '''\n",
    "    \n",
    "    # designate the echos with their maskingwindows as being laid out one after the other\n",
    "    # we are not including any temporal aspects in the hearing/masking in this model - and so it doesn't really matter which\n",
    "    # set of boxes we assign to the masking windows. This is a choice to make the coding easier. \n",
    "    \n",
    "    \n",
    "    \n",
    "    "
   ]
  },
  {
   "cell_type": "code",
   "execution_count": 19,
   "metadata": {
    "collapsed": false
   },
   "outputs": [
    {
     "data": {
      "text/plain": [
       "(0,\n",
       " 0,\n",
       " 0,\n",
       " 0,\n",
       " 0,\n",
       " 0,\n",
       " 0,\n",
       " 0,\n",
       " 0,\n",
       " 0,\n",
       " 0,\n",
       " 0,\n",
       " 0,\n",
       " 0,\n",
       " 0,\n",
       " 0,\n",
       " 0,\n",
       " 0,\n",
       " 0,\n",
       " 0,\n",
       " 0,\n",
       " 0,\n",
       " 0,\n",
       " 0,\n",
       " 0,\n",
       " 0,\n",
       " 0,\n",
       " 0,\n",
       " 0,\n",
       " 0,\n",
       " 0,\n",
       " 0,\n",
       " 6)"
      ]
     },
     "execution_count": 19,
     "metadata": {},
     "output_type": "execute_result"
    }
   ],
   "source": [
    "y[0]"
   ]
  },
  {
   "cell_type": "code",
   "execution_count": null,
   "metadata": {
    "collapsed": true
   },
   "outputs": [],
   "source": []
  }
 ],
 "metadata": {
  "anaconda-cloud": {},
  "kernelspec": {
   "display_name": "Python [conda root]",
   "language": "python",
   "name": "conda-root-py"
  },
  "language_info": {
   "codemirror_mode": {
    "name": "ipython",
    "version": 2
   },
   "file_extension": ".py",
   "mimetype": "text/x-python",
   "name": "python",
   "nbconvert_exporter": "python",
   "pygments_lexer": "ipython2",
   "version": "2.7.12"
  }
 },
 "nbformat": 4,
 "nbformat_minor": 1
}
