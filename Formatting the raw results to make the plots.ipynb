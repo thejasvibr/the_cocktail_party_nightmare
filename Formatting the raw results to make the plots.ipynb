{
 "cells": [
  {
   "cell_type": "markdown",
   "metadata": {},
   "source": [
    "This notebook converts the raw data from the pickle files into the format required for the plots."
   ]
  },
  {
   "cell_type": "code",
   "execution_count": 61,
   "metadata": {
    "collapsed": true
   },
   "outputs": [],
   "source": [
    "import glob \n",
    "import matplotlib.pyplot as plt\n",
    "import pickle\n",
    "import numpy as np \n",
    "import os\n",
    "\n",
    "from calc_num_IPIs import calc_num_IPIs_to_hear_echoes as nIPIs_to_mechoes\n",
    "from calc_num_IPIs import calc_numtrials_per_echonumber "
   ]
  },
  {
   "cell_type": "code",
   "execution_count": 62,
   "metadata": {
    "collapsed": false
   },
   "outputs": [
    {
     "name": "stdout",
     "output_type": "stream",
     "text": [
      "Help on function calc_num_IPIs_to_hear_echoes in module calc_num_IPIs:\n",
      "\n",
      "calc_num_IPIs_to_hear_echoes(echoes_heard, minheard_echoes, n_echoes, **kwargs)\n",
      "    Calculates the number of consecutive trials it takes to hear \n",
      "    at least m echoes of the total N echoes available in an interpulse interval.\n",
      "    \n",
      "    This function mimics how often a bat will gain a 'glimpse' of its surrounding\n",
      "    eg, will it see 3/5 echoes every 10 interpulse intervals, or every 2 interpulse\n",
      "    intervals ?\n",
      "    \n",
      "    Parameters:\n",
      "        \n",
      "        echoes_heard : Ntrials x N echoes np.array with one-hot coded entries.\n",
      "                     Each trial is a row, and each column is an array. \n",
      "                     Eg. In a trial with 5 echoes, if the 2nd and 3rd echoes\n",
      "                     are heard the row will be :\n",
      "                         np.array([0,1,1,0,0])\n",
      "        \n",
      "        minheard_echoes : integer >0. Number of echoes that need to be heard\n",
      "                          for one particular series of trials to be counted.\n",
      "        \n",
      "        n_echoes : integer>0. Number of echoes present in the interpulse interval\n",
      "    \n",
      "    Keyword Arguments:\n",
      "        \n",
      "        numtimes_allechoes : integer. Number of times that *all* echoes are detected.\n",
      "                             Defaults to 1. For example, if numtimes_allechoes = 2 \n",
      "                             and then the number of rows till 3 echoes are seen twice\n",
      "                             is counted. \n",
      "    \n",
      "    Returns:\n",
      "    \n",
      "        trials_to_hear_mechoes : list with integers. The number of consecutive\n",
      "                                 trials it takes to hear m echoes of N present ones.\n",
      "\n"
     ]
    }
   ],
   "source": [
    "help(nIPIs_to_mechoes)"
   ]
  },
  {
   "cell_type": "code",
   "execution_count": 18,
   "metadata": {
    "collapsed": true
   },
   "outputs": [],
   "source": [
    "results_folder = os.path.join('results','the_CPN_nIPIS_to_hear_echoes_round_2\\\\')\n",
    "results_files = glob.glob(results_folder+'*.pkl')"
   ]
  },
  {
   "cell_type": "code",
   "execution_count": 20,
   "metadata": {
    "collapsed": false
   },
   "outputs": [
    {
     "data": {
      "text/plain": [
       "['results\\\\the_CPN_nIPIS_to_hear_echoes_round_2\\\\N_IPIS_to_hear_allechoes_mytable_ubuntu_11echoes_.pkl',\n",
       " 'results\\\\the_CPN_nIPIS_to_hear_echoes_round_2\\\\N_IPIS_to_hear_allechoes_mytable_ubuntu_13echoes_.pkl',\n",
       " 'results\\\\the_CPN_nIPIS_to_hear_echoes_round_2\\\\N_IPIS_to_hear_allechoes_mytable_ubuntu_15echoes_.pkl',\n",
       " 'results\\\\the_CPN_nIPIS_to_hear_echoes_round_2\\\\N_IPIS_to_hear_allechoes_mytable_ubuntu_17echoes_.pkl',\n",
       " 'results\\\\the_CPN_nIPIS_to_hear_echoes_round_2\\\\N_IPIS_to_hear_allechoes_mytable_ubuntu_19echoes_.pkl',\n",
       " 'results\\\\the_CPN_nIPIS_to_hear_echoes_round_2\\\\N_IPIS_to_hear_allechoes_mytable_ubuntu_21echoes_.pkl',\n",
       " 'results\\\\the_CPN_nIPIS_to_hear_echoes_round_2\\\\N_IPIS_to_hear_allechoes_mytable_ubuntu_23echoes_.pkl',\n",
       " 'results\\\\the_CPN_nIPIS_to_hear_echoes_round_2\\\\N_IPIS_to_hear_allechoes_mytable_ubuntu_25echoes_.pkl',\n",
       " 'results\\\\the_CPN_nIPIS_to_hear_echoes_round_2\\\\N_IPIS_to_hear_allechoes_mytable_ubuntu_27echoes_.pkl',\n",
       " 'results\\\\the_CPN_nIPIS_to_hear_echoes_round_2\\\\N_IPIS_to_hear_allechoes_mytable_ubuntu_29echoes_.pkl',\n",
       " 'results\\\\the_CPN_nIPIS_to_hear_echoes_round_2\\\\N_IPIS_to_hear_allechoes_mytable_ubuntu_31echoes_.pkl',\n",
       " 'results\\\\the_CPN_nIPIS_to_hear_echoes_round_2\\\\N_IPIS_to_hear_allechoes_mytable_windows_1echoes_.pkl',\n",
       " 'results\\\\the_CPN_nIPIS_to_hear_echoes_round_2\\\\N_IPIS_to_hear_allechoes_mytable_windows_3echoes_.pkl',\n",
       " 'results\\\\the_CPN_nIPIS_to_hear_echoes_round_2\\\\N_IPIS_to_hear_allechoes_mytable_windows_5echoes_.pkl',\n",
       " 'results\\\\the_CPN_nIPIS_to_hear_echoes_round_2\\\\N_IPIS_to_hear_allechoes_mytable_windows_7echoes_.pkl',\n",
       " 'results\\\\the_CPN_nIPIS_to_hear_echoes_round_2\\\\N_IPIS_to_hear_allechoes_mytable_windows_9echoes_.pkl']"
      ]
     },
     "execution_count": 20,
     "metadata": {},
     "output_type": "execute_result"
    }
   ],
   "source": [
    "results_files"
   ]
  },
  {
   "cell_type": "code",
   "execution_count": 69,
   "metadata": {
    "collapsed": false
   },
   "outputs": [],
   "source": [
    "echoes_heard = {}\n",
    "for each_resultfile in results_files:\n",
    "    with open(each_resultfile, 'r') as one_file:\n",
    "        data = pickle.load(one_file)\n",
    "        echoes_heard[data['num_echoes']] = data['echo_ids']\n",
    "\n",
    "    "
   ]
  },
  {
   "cell_type": "code",
   "execution_count": 84,
   "metadata": {
    "collapsed": false
   },
   "outputs": [
    {
     "data": {
      "text/plain": [
       "9"
      ]
     },
     "execution_count": 84,
     "metadata": {},
     "output_type": "execute_result"
    }
   ],
   "source": [
    "q = [9,2,3,4,1]\n",
    "np.percentile(q, 90, interpolation='nearest')"
   ]
  },
  {
   "cell_type": "code",
   "execution_count": 85,
   "metadata": {
    "collapsed": false
   },
   "outputs": [],
   "source": [
    "get_90pctile = lambda X : np.percentile(X, 90, interpolation='nearest')"
   ]
  },
  {
   "cell_type": "code",
   "execution_count": 89,
   "metadata": {
    "collapsed": false
   },
   "outputs": [
    {
     "ename": "KeyboardInterrupt",
     "evalue": "",
     "output_type": "error",
     "traceback": [
      "\u001b[1;31m---------------------------------------------------------------------------\u001b[0m",
      "\u001b[1;31mKeyboardInterrupt\u001b[0m                         Traceback (most recent call last)",
      "\u001b[1;32m<ipython-input-89-632ecc6f431d>\u001b[0m in \u001b[0;36m<module>\u001b[1;34m()\u001b[0m\n\u001b[0;32m      2\u001b[0m \u001b[1;33m\u001b[0m\u001b[0m\n\u001b[0;32m      3\u001b[0m \u001b[1;32mfor\u001b[0m \u001b[0meach_echonum\u001b[0m \u001b[1;32min\u001b[0m \u001b[0msorted\u001b[0m\u001b[1;33m(\u001b[0m\u001b[0mechoes_heard\u001b[0m\u001b[1;33m.\u001b[0m\u001b[0mkeys\u001b[0m\u001b[1;33m(\u001b[0m\u001b[1;33m)\u001b[0m\u001b[1;33m)\u001b[0m\u001b[1;33m:\u001b[0m\u001b[1;33m\u001b[0m\u001b[0m\n\u001b[1;32m----> 4\u001b[1;33m     \u001b[0mNtrials_allonce\u001b[0m \u001b[1;33m=\u001b[0m \u001b[1;33m[\u001b[0m \u001b[0mnIPIs_to_mechoes\u001b[0m\u001b[1;33m(\u001b[0m\u001b[0mechoes_heard\u001b[0m\u001b[1;33m[\u001b[0m\u001b[0meach_echonum\u001b[0m\u001b[1;33m]\u001b[0m\u001b[1;33m[\u001b[0m\u001b[0mi\u001b[0m\u001b[1;33m]\u001b[0m\u001b[1;33m,\u001b[0m \u001b[0meach_echonum\u001b[0m\u001b[1;33m,\u001b[0m \u001b[0meach_echonum\u001b[0m\u001b[1;33m)\u001b[0m \u001b[1;32mfor\u001b[0m \u001b[0mi\u001b[0m \u001b[1;32min\u001b[0m \u001b[0mrange\u001b[0m\u001b[1;33m(\u001b[0m\u001b[1;36m16\u001b[0m\u001b[1;33m)\u001b[0m\u001b[1;33m]\u001b[0m\u001b[1;33m\u001b[0m\u001b[0m\n\u001b[0m\u001b[0;32m      5\u001b[0m \u001b[1;33m\u001b[0m\u001b[0m\n\u001b[0;32m      6\u001b[0m \u001b[0mninety_pctile_once\u001b[0m \u001b[1;33m=\u001b[0m \u001b[0mmap\u001b[0m\u001b[1;33m(\u001b[0m\u001b[0mget_90pctile\u001b[0m\u001b[1;33m,\u001b[0m \u001b[0mNtrials_allonce\u001b[0m\u001b[1;33m)\u001b[0m\u001b[1;33m\u001b[0m\u001b[0m\n",
      "\u001b[1;32mC:\\Users\\tbeleyur\\Google Drive\\Holger Goerlitz- IMPRS\\PHD_2015\\projects and analyses\\2016_jamming response modelling\\analytical_modelling\\calc_num_IPIs.pyc\u001b[0m in \u001b[0;36mcalc_num_IPIs_to_hear_echoes\u001b[1;34m(echoes_heard, minheard_echoes, n_echoes, **kwargs)\u001b[0m\n\u001b[0;32m     58\u001b[0m     \u001b[1;32mwhile\u001b[0m \u001b[0mrows_still_left\u001b[0m\u001b[1;33m:\u001b[0m\u001b[1;33m\u001b[0m\u001b[0m\n\u001b[0;32m     59\u001b[0m         num_trials = count_numrows_to_m_echoes(echoes_heard, minheard_echoes,\n\u001b[1;32m---> 60\u001b[1;33m                                                **kwargs)\n\u001b[0m\u001b[0;32m     61\u001b[0m \u001b[1;33m\u001b[0m\u001b[0m\n\u001b[0;32m     62\u001b[0m         \u001b[1;32mif\u001b[0m \u001b[0mnum_trials\u001b[0m \u001b[1;32mis\u001b[0m \u001b[0mNone\u001b[0m\u001b[1;33m:\u001b[0m\u001b[1;33m\u001b[0m\u001b[0m\n",
      "\u001b[1;32mC:\\Users\\tbeleyur\\Google Drive\\Holger Goerlitz- IMPRS\\PHD_2015\\projects and analyses\\2016_jamming response modelling\\analytical_modelling\\calc_num_IPIs.pyc\u001b[0m in \u001b[0;36mcount_numrows_to_m_echoes\u001b[1;34m(echoes_heard, m_echoes, **kwargs)\u001b[0m\n\u001b[0;32m    143\u001b[0m     \u001b[0mcum_echoes_heard\u001b[0m \u001b[1;33m=\u001b[0m \u001b[0mnp\u001b[0m\u001b[1;33m.\u001b[0m\u001b[0mcumsum\u001b[0m\u001b[1;33m(\u001b[0m\u001b[0mechoes_heard\u001b[0m\u001b[1;33m,\u001b[0m \u001b[1;36m0\u001b[0m\u001b[1;33m)\u001b[0m\u001b[1;33m\u001b[0m\u001b[0m\n\u001b[0;32m    144\u001b[0m     \u001b[1;31m# get first row at which all echoes are heard at least numtimes:\u001b[0m\u001b[1;33m\u001b[0m\u001b[1;33m\u001b[0m\u001b[0m\n\u001b[1;32m--> 145\u001b[1;33m     \u001b[0mechoes_heard_mask\u001b[0m \u001b[1;33m=\u001b[0m \u001b[0mcum_echoes_heard\u001b[0m \u001b[1;33m>=\u001b[0m \u001b[0mnumtimes_allechoes\u001b[0m\u001b[1;33m\u001b[0m\u001b[0m\n\u001b[0m\u001b[0;32m    146\u001b[0m     \u001b[0mechoes_heard_pertrial\u001b[0m \u001b[1;33m=\u001b[0m \u001b[0mnp\u001b[0m\u001b[1;33m.\u001b[0m\u001b[0msum\u001b[0m\u001b[1;33m(\u001b[0m\u001b[0mechoes_heard_mask\u001b[0m\u001b[1;33m,\u001b[0m \u001b[1;36m1\u001b[0m\u001b[1;33m)\u001b[0m\u001b[1;33m\u001b[0m\u001b[0m\n\u001b[0;32m    147\u001b[0m \u001b[1;33m\u001b[0m\u001b[0m\n",
      "\u001b[1;31mKeyboardInterrupt\u001b[0m: "
     ]
    }
   ],
   "source": [
    "all_echoes_once, all_echoes_twice, median_echoes_one = np.zeros((16,16)), np.zeros((16,16)), np.zeros((16,16))\n",
    "\n",
    "for each_echonum in sorted(echoes_heard.keys()):\n",
    "    Ntrials_allonce = [ nIPIs_to_mechoes(echoes_heard[each_echonum][i], each_echonum, each_echonum) for i in range(16)]\n",
    "\n",
    "ninety_pctile_once = map(get_90pctile, Ntrials_allonce)\n",
    "    "
   ]
  },
  {
   "cell_type": "code",
   "execution_count": 87,
   "metadata": {
    "collapsed": false
   },
   "outputs": [
    {
     "name": "stdout",
     "output_type": "stream",
     "text": [
      "Help on function calc_num_IPIs_to_hear_echoes in module calc_num_IPIs:\n",
      "\n",
      "calc_num_IPIs_to_hear_echoes(echoes_heard, minheard_echoes, n_echoes, **kwargs)\n",
      "    Calculates the number of consecutive trials it takes to hear \n",
      "    at least m echoes of the total N echoes available in an interpulse interval.\n",
      "    \n",
      "    This function mimics how often a bat will gain a 'glimpse' of its surrounding\n",
      "    eg, will it see 3/5 echoes every 10 interpulse intervals, or every 2 interpulse\n",
      "    intervals ?\n",
      "    \n",
      "    Parameters:\n",
      "        \n",
      "        echoes_heard : Ntrials x N echoes np.array with one-hot coded entries.\n",
      "                     Each trial is a row, and each column is an array. \n",
      "                     Eg. In a trial with 5 echoes, if the 2nd and 3rd echoes\n",
      "                     are heard the row will be :\n",
      "                         np.array([0,1,1,0,0])\n",
      "        \n",
      "        minheard_echoes : integer >0. Number of echoes that need to be heard\n",
      "                          for one particular series of trials to be counted.\n",
      "        \n",
      "        n_echoes : integer>0. Number of echoes present in the interpulse interval\n",
      "    \n",
      "    Keyword Arguments:\n",
      "        \n",
      "        numtimes_allechoes : integer. Number of times that *all* echoes are detected.\n",
      "                             Defaults to 1. For example, if numtimes_allechoes = 2 \n",
      "                             and then the number of rows till 3 echoes are seen twice\n",
      "                             is counted. \n",
      "    \n",
      "    Returns:\n",
      "    \n",
      "        trials_to_hear_mechoes : list with integers. The number of consecutive\n",
      "                                 trials it takes to hear m echoes of N present ones.\n",
      "\n"
     ]
    }
   ],
   "source": [
    "help(nIPIs_to_mechoes)"
   ]
  },
  {
   "cell_type": "code",
   "execution_count": 72,
   "metadata": {
    "collapsed": false
   },
   "outputs": [
    {
     "data": {
      "text/plain": [
       "(16L, 10000L, 1L)"
      ]
     },
     "execution_count": 72,
     "metadata": {},
     "output_type": "execute_result"
    }
   ],
   "source": [
    "echoes_heard[1].shape"
   ]
  },
  {
   "cell_type": "code",
   "execution_count": null,
   "metadata": {
    "collapsed": true
   },
   "outputs": [],
   "source": []
  }
 ],
 "metadata": {
  "kernelspec": {
   "display_name": "Python [conda root]",
   "language": "python",
   "name": "conda-root-py"
  },
  "language_info": {
   "codemirror_mode": {
    "name": "ipython",
    "version": 2
   },
   "file_extension": ".py",
   "mimetype": "text/x-python",
   "name": "python",
   "nbconvert_exporter": "python",
   "pygments_lexer": "ipython2",
   "version": "2.7.12"
  }
 },
 "nbformat": 4,
 "nbformat_minor": 2
}
