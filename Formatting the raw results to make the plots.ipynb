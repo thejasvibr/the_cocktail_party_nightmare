{
 "cells": [
  {
   "cell_type": "markdown",
   "metadata": {},
   "source": [
    "This notebook converts the raw data from the pickle files into the format required for the plots."
   ]
  },
  {
   "cell_type": "code",
   "execution_count": 1,
   "metadata": {},
   "outputs": [],
   "source": [
    "from __future__ import division\n",
    "import glob \n",
    "import matplotlib.pyplot as plt\n",
    "import pickle\n",
    "import numpy as np \n",
    "import os\n",
    "import time\n",
    "\n",
    "\n",
    "from calc_num_IPIs import calc_num_IPIs_to_hear_echoes as nIPIs_to_mechoes\n",
    "from calc_num_IPIs import calc_numtrials_per_echonumber "
   ]
  },
  {
   "cell_type": "code",
   "execution_count": 2,
   "metadata": {},
   "outputs": [],
   "source": [
    "results_folder = os.path.join('results','the_CPN_nIPIs_to_hear_all_echoes','the_CPN_nIPIS_to_hear_echoes_round_2')\n",
    "results_files = glob.glob(results_folder+'/*.pkl')"
   ]
  },
  {
   "cell_type": "code",
   "execution_count": 20,
   "metadata": {},
   "outputs": [
    {
     "data": {
      "text/plain": [
       "'results/the_CPN_nIPIs_to_hear_all_echoes/the_CPN_nIPIS_to_hear_echoes_round_2'"
      ]
     },
     "execution_count": 20,
     "metadata": {},
     "output_type": "execute_result"
    }
   ],
   "source": [
    "results_folder"
   ]
  },
  {
   "cell_type": "code",
   "execution_count": 3,
   "metadata": {},
   "outputs": [],
   "source": [
    "echoes_heard = {}\n",
    "for each_resultfile in results_files:\n",
    "    with open(each_resultfile, 'r') as one_file:\n",
    "        data = pickle.load(one_file)\n",
    "        echoes_heard[data['num_echoes']] = data['echo_ids']\n",
    "\n",
    "    "
   ]
  },
  {
   "cell_type": "code",
   "execution_count": 4,
   "metadata": {},
   "outputs": [],
   "source": [
    "get_90pctile = lambda X : np.percentile(X, 90, interpolation='nearest')"
   ]
  },
  {
   "cell_type": "code",
   "execution_count": 11,
   "metadata": {},
   "outputs": [],
   "source": [
    "def echoes_once():\n",
    "    all_echoes_once =  np.zeros((16,16))\n",
    "    for i, each_echonum in enumerate(sorted(echoes_heard.keys())):\n",
    "        start = time.time()\n",
    "        print('each_echonum')\n",
    "        Ntrials_allonce = [ nIPIs_to_mechoes(echoes_heard[each_echonum][j], each_echonum, each_echonum) for j in range(16)]\n",
    "        ninety_pctile_once = map(get_90pctile, Ntrials_allonce)\n",
    "        all_echoes_once[i,:] = ninety_pctile_once\n",
    "        end_time = time.time()\n",
    "        print('duration', end_time - start)\n",
    "    return(all_echoes_once)\n",
    "\n",
    "def echoes_twice():\n",
    "    all_echoes_twice =  np.zeros((16,16))\n",
    "    for i, each_echonum in enumerate(sorted(echoes_heard.keys())):\n",
    "        start = time.time()\n",
    "        print('each_echonum twice', each_echonum)\n",
    "        Ntrials_alltwice = [ nIPIs_to_mechoes(echoes_heard[each_echonum][j], each_echonum, each_echonum,\n",
    "                                            numtimes_allechoes=2) for j in range(16)]\n",
    "        ninety_pctile_twice = map(get_90pctile, Ntrials_alltwice)\n",
    "        all_echoes_twice[i,:] = ninety_pctile_twice\n",
    "        end_time = time.time()\n",
    "        print('duration', end_time - start)\n",
    "    return(all_echoes_twice)\n",
    "\n",
    "    \n",
    "def echoes_median():\n",
    "    median_once =  np.zeros((16,16))\n",
    "    for i, each_echonum in enumerate(sorted(echoes_heard.keys())):\n",
    "        start = time.time()\n",
    "        print('each_echonum twice', each_echonum)\n",
    "        Ntrials_median = []\n",
    "        for j in range(16): \n",
    "            median_num = np.median(np.arange(1,each_echonum+1))\n",
    "            Ntrials_median.append( nIPIs_to_mechoes(echoes_heard[each_echonum][j], median_num, each_echonum) )\n",
    "        ninety_pctile_median = map(get_90pctile, Ntrials_median)\n",
    "        median_once[i,:] = ninety_pctile_median\n",
    "        end_time = time.time()\n",
    "        print('duration', end_time - start)\n",
    "    return(median_once)"
   ]
  },
  {
   "cell_type": "code",
   "execution_count": 12,
   "metadata": {},
   "outputs": [],
   "source": [
    "funcs_list = [echoes_once, echoes_twice, echoes_median]\n",
    "run_funcs = lambda X : X()"
   ]
  },
  {
   "cell_type": "code",
   "execution_count": 13,
   "metadata": {},
   "outputs": [
    {
     "name": "stdout",
     "output_type": "stream",
     "text": [
      "each_echonum\n",
      "('duration', 14.064870119094849)\n",
      "each_echonum\n",
      "('duration', 25.76563787460327)\n",
      "each_echonum\n",
      "('duration', 26.70962691307068)\n",
      "each_echonum\n",
      "('duration', 31.37025809288025)\n",
      "each_echonum\n",
      "('duration', 36.26642298698425)\n",
      "each_echonum\n",
      "('duration', 39.98077201843262)\n",
      "each_echonum\n",
      "('duration', 43.6704580783844)\n",
      "each_echonum\n",
      "('duration', 48.034284830093384)\n",
      "each_echonum\n",
      "('duration', 49.23436689376831)\n",
      "each_echonum\n",
      "('duration', 53.02928018569946)\n",
      "each_echonum\n",
      "('duration', 57.75196385383606)\n",
      "each_echonum\n",
      "('duration', 62.716432094573975)\n",
      "each_echonum\n",
      "('duration', 67.8208360671997)\n",
      "each_echonum\n",
      "('duration', 72.2525839805603)\n",
      "each_echonum\n",
      "('duration', 78.5224928855896)\n",
      "each_echonum\n",
      "('duration', 83.90560412406921)\n",
      "('each_echonum twice', 1)\n",
      "('duration', 6.905030965805054)\n",
      "('each_echonum twice', 3)\n",
      "('duration', 13.068014860153198)\n",
      "('each_echonum twice', 5)\n",
      "('duration', 14.231063842773438)\n",
      "('each_echonum twice', 7)\n",
      "('duration', 17.203804969787598)\n",
      "('each_echonum twice', 9)\n",
      "('duration', 20.19006109237671)\n",
      "('each_echonum twice', 11)\n",
      "('duration', 22.74038290977478)\n",
      "('each_echonum twice', 13)\n",
      "('duration', 25.019813060760498)\n",
      "('each_echonum twice', 15)\n",
      "('duration', 27.63003706932068)\n",
      "('each_echonum twice', 17)\n",
      "('duration', 28.712729930877686)\n",
      "('each_echonum twice', 19)\n",
      "('duration', 31.446871042251587)\n",
      "('each_echonum twice', 21)\n",
      "('duration', 34.21427798271179)\n",
      "('each_echonum twice', 23)\n",
      "('duration', 37.132253885269165)\n",
      "('each_echonum twice', 25)\n",
      "('duration', 40.624898195266724)\n",
      "('each_echonum twice', 27)\n",
      "('duration', 43.45892119407654)\n",
      "('each_echonum twice', 29)\n",
      "('duration', 47.37440204620361)\n",
      "('each_echonum twice', 31)\n",
      "('duration', 52.541406869888306)\n",
      "('each_echonum twice', 1)\n",
      "('duration', 15.525860071182251)\n",
      "('each_echonum twice', 3)\n",
      "('duration', 34.540634870529175)\n",
      "('each_echonum twice', 5)\n",
      "('duration', 43.21077513694763)\n",
      "('each_echonum twice', 7)\n",
      "('duration', 57.364705085754395)\n",
      "('each_echonum twice', 9)\n",
      "('duration', 71.09720611572266)\n",
      "('each_echonum twice', 11)\n",
      "('duration', 82.66368508338928)\n",
      "('each_echonum twice', 13)\n",
      "('duration', 94.72527503967285)\n",
      "('each_echonum twice', 15)\n",
      "('duration', 108.39315414428711)\n",
      "('each_echonum twice', 17)\n",
      "('duration', 115.67605590820312)\n",
      "('each_echonum twice', 19)\n",
      "('duration', 127.93844795227051)\n",
      "('each_echonum twice', 21)\n",
      "('duration', 140.6989870071411)\n",
      "('each_echonum twice', 23)\n",
      "('duration', 154.7700719833374)\n",
      "('each_echonum twice', 25)\n",
      "('duration', 170.73590302467346)\n",
      "('each_echonum twice', 27)\n",
      "('duration', 186.00337195396423)\n",
      "('each_echonum twice', 29)\n",
      "('duration', 203.4905869960785)\n",
      "('each_echonum twice', 31)\n",
      "('duration', 222.03707194328308)\n"
     ]
    }
   ],
   "source": [
    "formatted_results = map(run_funcs, funcs_list)"
   ]
  },
  {
   "cell_type": "code",
   "execution_count": 19,
   "metadata": {},
   "outputs": [],
   "source": [
    "plotdata = {'all_once' : formatted_results[0],\n",
    "            'all_twice' : formatted_results[1],\n",
    "             'median_once' : formatted_results[2]\n",
    "           }"
   ]
  },
  {
   "cell_type": "code",
   "execution_count": 22,
   "metadata": {},
   "outputs": [],
   "source": [
    "with open('plots/round2_plotdata.pkl', 'wb') as handle:\n",
    "    pickle.dump(plotdata, handle)"
   ]
  },
  {
   "cell_type": "code",
   "execution_count": 14,
   "metadata": {},
   "outputs": [
    {
     "data": {
      "text/plain": [
       "array([[1., 1., 1., 1., 1., 1., 1., 1., 1., 1., 1., 1., 1., 1., 1., 1.],\n",
       "       [1., 1., 2., 2., 2., 2., 2., 2., 2., 3., 3., 3., 3., 3., 3., 3.],\n",
       "       [1., 2., 2., 2., 2., 2., 3., 3., 3., 3., 3., 3., 3., 4., 4., 4.],\n",
       "       [1., 2., 2., 2., 2., 3., 3., 3., 3., 3., 3., 4., 4., 4., 4., 4.],\n",
       "       [2., 2., 2., 2., 3., 3., 3., 3., 3., 4., 4., 4., 4., 4., 4., 4.],\n",
       "       [2., 2., 2., 2., 3., 3., 3., 3., 3., 4., 4., 4., 4., 4., 4., 5.],\n",
       "       [2., 2., 2., 3., 3., 3., 3., 3., 4., 4., 4., 4., 4., 4., 5., 5.],\n",
       "       [2., 2., 2., 3., 3., 3., 3., 4., 4., 4., 4., 4., 5., 5., 5., 5.],\n",
       "       [2., 2., 2., 3., 3., 3., 3., 4., 4., 4., 4., 4., 5., 5., 5., 5.],\n",
       "       [2., 2., 2., 3., 3., 3., 3., 4., 4., 4., 4., 4., 5., 5., 5., 5.],\n",
       "       [2., 2., 3., 3., 3., 3., 4., 4., 4., 4., 4., 5., 5., 5., 5., 5.],\n",
       "       [2., 2., 3., 3., 3., 3., 4., 4., 4., 4., 4., 5., 5., 5., 5., 5.],\n",
       "       [2., 2., 3., 3., 3., 3., 4., 4., 4., 4., 4., 5., 5., 5., 5., 5.],\n",
       "       [2., 2., 3., 3., 3., 3., 4., 4., 4., 4., 4., 5., 5., 5., 5., 6.],\n",
       "       [2., 2., 3., 3., 3., 3., 4., 4., 4., 4., 5., 5., 5., 5., 6., 6.],\n",
       "       [2., 2., 3., 3., 3., 3., 4., 4., 4., 4., 5., 5., 5., 5., 5., 6.]])"
      ]
     },
     "execution_count": 14,
     "metadata": {},
     "output_type": "execute_result"
    }
   ],
   "source": [
    "formatted_results[0]"
   ]
  },
  {
   "cell_type": "code",
   "execution_count": 15,
   "metadata": {},
   "outputs": [
    {
     "data": {
      "text/plain": [
       "array([[2., 2., 2., 2., 2., 2., 2., 2., 2., 2., 2., 2., 2., 2., 2., 2.],\n",
       "       [2., 3., 3., 3., 3., 4., 4., 4., 4., 4., 5., 5., 5., 5., 5., 5.],\n",
       "       [3., 3., 3., 4., 4., 4., 4., 5., 5., 5., 5., 5., 6., 6., 6., 6.],\n",
       "       [3., 3., 3., 4., 4., 4., 5., 5., 5., 5., 6., 6., 6., 6., 6., 7.],\n",
       "       [3., 3., 4., 4., 4., 4., 5., 5., 5., 6., 6., 6., 6., 6., 7., 7.],\n",
       "       [3., 3., 4., 4., 4., 5., 5., 5., 5., 6., 6., 6., 6., 7., 7., 7.],\n",
       "       [3., 3., 4., 4., 4., 5., 5., 5., 5., 6., 6., 6., 7., 7., 7., 7.],\n",
       "       [3., 3., 4., 4., 4., 5., 5., 5., 6., 6., 6., 6., 7., 7., 7., 7.],\n",
       "       [3., 3., 4., 4., 5., 5., 5., 5., 6., 6., 6., 6., 7., 7., 7., 8.],\n",
       "       [3., 4., 4., 4., 5., 5., 5., 5., 6., 6., 6., 7., 7., 7., 7., 8.],\n",
       "       [3., 4., 4., 4., 5., 5., 5., 6., 6., 6., 6., 7., 7., 7., 8., 8.],\n",
       "       [3., 4., 4., 4., 5., 5., 5., 6., 6., 6., 7., 7., 7., 7., 8., 8.],\n",
       "       [3., 4., 4., 4., 5., 5., 5., 6., 6., 6., 7., 7., 7., 7., 8., 8.],\n",
       "       [3., 4., 4., 4., 5., 5., 5., 6., 6., 6., 7., 7., 7., 7., 8., 8.],\n",
       "       [3., 4., 4., 4., 5., 5., 5., 6., 6., 6., 7., 7., 7., 8., 8., 8.],\n",
       "       [3., 4., 4., 4., 5., 5., 6., 6., 6., 7., 7., 7., 7., 8., 8., 8.]])"
      ]
     },
     "execution_count": 15,
     "metadata": {},
     "output_type": "execute_result"
    }
   ],
   "source": [
    "formatted_results[1]"
   ]
  },
  {
   "cell_type": "code",
   "execution_count": 16,
   "metadata": {},
   "outputs": [
    {
     "data": {
      "text/plain": [
       "array([[1., 1., 1., 1., 1., 1., 1., 1., 1., 1., 1., 1., 1., 1., 1., 1.],\n",
       "       [1., 1., 1., 1., 1., 1., 1., 1., 1., 1., 1., 1., 1., 2., 2., 2.],\n",
       "       [1., 1., 1., 1., 1., 1., 1., 1., 1., 1., 1., 1., 1., 1., 2., 2.],\n",
       "       [1., 1., 1., 1., 1., 1., 1., 1., 1., 1., 1., 1., 1., 1., 1., 2.],\n",
       "       [1., 1., 1., 1., 1., 1., 1., 1., 1., 1., 1., 1., 1., 1., 1., 1.],\n",
       "       [1., 1., 1., 1., 1., 1., 1., 1., 1., 1., 1., 1., 1., 1., 1., 1.],\n",
       "       [1., 1., 1., 1., 1., 1., 1., 1., 1., 1., 1., 1., 1., 1., 1., 1.],\n",
       "       [1., 1., 1., 1., 1., 1., 1., 1., 1., 1., 1., 1., 1., 1., 1., 1.],\n",
       "       [1., 1., 1., 1., 1., 1., 1., 1., 1., 1., 1., 1., 1., 1., 1., 1.],\n",
       "       [1., 1., 1., 1., 1., 1., 1., 1., 1., 1., 1., 1., 1., 1., 1., 1.],\n",
       "       [1., 1., 1., 1., 1., 1., 1., 1., 1., 1., 1., 1., 1., 1., 1., 1.],\n",
       "       [1., 1., 1., 1., 1., 1., 1., 1., 1., 1., 1., 1., 1., 1., 1., 1.],\n",
       "       [1., 1., 1., 1., 1., 1., 1., 1., 1., 1., 1., 1., 1., 1., 1., 1.],\n",
       "       [1., 1., 1., 1., 1., 1., 1., 1., 1., 1., 1., 1., 1., 1., 1., 1.],\n",
       "       [1., 1., 1., 1., 1., 1., 1., 1., 1., 1., 1., 1., 1., 1., 1., 1.],\n",
       "       [1., 1., 1., 1., 1., 1., 1., 1., 1., 1., 1., 1., 1., 1., 1., 1.]])"
      ]
     },
     "execution_count": 16,
     "metadata": {},
     "output_type": "execute_result"
    }
   ],
   "source": [
    "formatted_results[2]"
   ]
  },
  {
   "cell_type": "code",
   "execution_count": null,
   "metadata": {},
   "outputs": [],
   "source": []
  }
 ],
 "metadata": {
  "kernelspec": {
   "display_name": "Python [conda root]",
   "language": "python",
   "name": "conda-root-py"
  },
  "language_info": {
   "codemirror_mode": {
    "name": "ipython",
    "version": 2
   },
   "file_extension": ".py",
   "mimetype": "text/x-python",
   "name": "python",
   "nbconvert_exporter": "python",
   "pygments_lexer": "ipython2",
   "version": "2.7.15"
  }
 },
 "nbformat": 4,
 "nbformat_minor": 2
}
