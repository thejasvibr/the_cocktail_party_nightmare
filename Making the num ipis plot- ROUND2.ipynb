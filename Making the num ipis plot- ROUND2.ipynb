{
 "cells": [
  {
   "cell_type": "markdown",
   "metadata": {},
   "source": [
    "This notebook handles the plotting of the results figures for ROUND2 of the analysis. \n",
    "I increased the echo reception angle to +/- 30 degrees, from the previous +/- 15 degrees. I also altered the placement of echoes in the interpulse interval so that they were spread at equal intervals through the interpulse interval. In the previous version, the echoes were placed only in the first half of the interpulse interval. "
   ]
  },
  {
   "cell_type": "code",
   "execution_count": 1,
   "metadata": {
    "collapsed": true
   },
   "outputs": [],
   "source": [
    "import copy\n",
    "import os\n",
    "import matplotlib.pyplot as plt\n",
    "import numpy as np \n",
    "import pickle\n",
    "from calc_num_IPIs import calc_num_IPIs_to_hear_echoes as nIPIs_to_mechoes\n",
    "from calc_num_IPIs import calc_numtrials_per_echonumber "
   ]
  },
  {
   "cell_type": "code",
   "execution_count": 2,
   "metadata": {
    "collapsed": true
   },
   "outputs": [],
   "source": [
    "%matplotlib notebook"
   ]
  },
  {
   "cell_type": "code",
   "execution_count": 3,
   "metadata": {
    "collapsed": true
   },
   "outputs": [],
   "source": [
    "pklpath = os.path.join('plots', 'round2_plotdata.pkl')"
   ]
  },
  {
   "cell_type": "code",
   "execution_count": 4,
   "metadata": {
    "collapsed": false
   },
   "outputs": [
    {
     "ename": "IOError",
     "evalue": "[Errno 2] No such file or directory: 'plots\\\\round2_plotdata.pkl'",
     "output_type": "error",
     "traceback": [
      "\u001b[1;31m---------------------------------------------------------------------------\u001b[0m",
      "\u001b[1;31mIOError\u001b[0m                                   Traceback (most recent call last)",
      "\u001b[1;32m<ipython-input-4-009cf9bebae0>\u001b[0m in \u001b[0;36m<module>\u001b[1;34m()\u001b[0m\n\u001b[1;32m----> 1\u001b[1;33m \u001b[1;32mwith\u001b[0m \u001b[0mopen\u001b[0m\u001b[1;33m(\u001b[0m\u001b[0mpklpath\u001b[0m\u001b[1;33m,\u001b[0m \u001b[1;34m'rb'\u001b[0m\u001b[1;33m)\u001b[0m \u001b[1;32mas\u001b[0m \u001b[0mhandle\u001b[0m\u001b[1;33m:\u001b[0m\u001b[1;33m\u001b[0m\u001b[0m\n\u001b[0m\u001b[0;32m      2\u001b[0m     \u001b[0mplotdata\u001b[0m \u001b[1;33m=\u001b[0m \u001b[0mpickle\u001b[0m\u001b[1;33m.\u001b[0m\u001b[0mload\u001b[0m\u001b[1;33m(\u001b[0m\u001b[0mhandle\u001b[0m\u001b[1;33m)\u001b[0m\u001b[1;33m\u001b[0m\u001b[0m\n",
      "\u001b[1;31mIOError\u001b[0m: [Errno 2] No such file or directory: 'plots\\\\round2_plotdata.pkl'"
     ]
    }
   ],
   "source": [
    "with open(pklpath, 'rb') as handle:\n",
    "    plotdata = pickle.load(handle)\n"
   ]
  },
  {
   "cell_type": "code",
   "execution_count": null,
   "metadata": {
    "collapsed": false
   },
   "outputs": [],
   "source": [
    "plotdata.keys()"
   ]
  },
  {
   "cell_type": "code",
   "execution_count": null,
   "metadata": {
    "collapsed": true
   },
   "outputs": [],
   "source": [
    "numtrials_all_data = plotdata['all_once']\n",
    "numtrial_allechoes_twice = plotdata['all_twice']\n",
    "numtrials_alldata_medianechoes = plotdata['median_once']"
   ]
  },
  {
   "cell_type": "code",
   "execution_count": null,
   "metadata": {
    "collapsed": true
   },
   "outputs": [],
   "source": [
    "from mpl_toolkits.axes_grid1 import make_axes_locatable"
   ]
  },
  {
   "cell_type": "code",
   "execution_count": null,
   "metadata": {
    "collapsed": false
   },
   "outputs": [],
   "source": [
    "fig = plt.figure(figsize=(10,10))\n",
    "ax = plt.subplot(131)\n",
    "im = ax.imshow(numtrials_all_data, aspect='equal', cmap=plt.cm.get_cmap('plasma', 6), \n",
    "                                   origin='lower',extent=[0.5,32.5,0.5,32.5])\n",
    "ticks=np.arange(1,31,4)+0.5;\n",
    "plt.gca().set_xticks(ticks); plt.gca().set_yticks(ticks)\n",
    "plt.gca().tick_params(axis='both', which='major', labelsize=13)\n",
    "ax.set_xticklabels(np.arange(1,31,4))\n",
    "ax.set_yticklabels(np.arange(1,31,4))\n",
    "\n",
    "grid_ticks = np.arange(1,33,2)\n",
    "lwd = 1.2\n",
    "ax.vlines(grid_ticks-0.5,0.5,32.5, linewidth=lwd)\n",
    "ax.hlines(grid_ticks-0.5,0.5,32.5, linewidth=lwd)\n",
    "\n",
    "divider = make_axes_locatable(ax)\n",
    "cax = divider.new_vertical(size=\"7%\", pad=0.8, pack_start=True)\n",
    "fig.add_axes(cax)\n",
    "cbar = fig.colorbar(im, cax=cax, orientation=\"horizontal\")\n",
    "cbar.set_label('Number of call emissions \\n to hear all echoes once \\n 90percentile', labelpad=10,\n",
    "               fontsize=10)\n",
    "cbar.set_ticks(np.array(np.linspace(0.08,0.92,6, endpoint=True))*5 + 1)\n",
    "cbar.set_ticklabels([1,2,3,4,5,6])\n",
    "plt.text(-0.25,17.5, 'Number of echoes',\n",
    "        fontsize=14, rotation=90)\n",
    "plt.text(-0.1, 22, 'A', fontsize=20)\n",
    "\n",
    "plt.show()\n",
    "##################\n",
    "\n",
    "ax1 = plt.subplot(132)\n",
    "\n",
    "im1 = ax1.imshow(numtrial_allechoes_twice, aspect='equal', cmap=plt.cm.get_cmap('plasma', 7), \n",
    "                                   origin='lower',extent=[0.5,32.5,0.5,32.5])\n",
    "ticks=np.arange(1,31,4)+0.5;\n",
    "plt.gca().set_xticks(ticks); \n",
    "plt.gca().set_yticks(ticks)\n",
    "plt.gca().tick_params(axis='both', which='major', labelsize=13)\n",
    "ax1.set_xticklabels(np.arange(1,31,4))\n",
    "ax1.set_yticklabels([])\n",
    "\n",
    "grid_ticks = np.arange(1,33,2)\n",
    "ax1.vlines(grid_ticks-0.5,0.5,32.5, linewidth=lwd)\n",
    "ax1.hlines(grid_ticks-0.5,0.5,32.5, linewidth=lwd)\n",
    "\n",
    "divider = make_axes_locatable(ax1)\n",
    "cax1 = divider.new_vertical(size=\"7%\", pad=0.8, pack_start=True)\n",
    "fig.add_axes(cax1)\n",
    "cbar1 = fig.colorbar(im1, cax=cax1, orientation=\"horizontal\")\n",
    "cbar1.set_label('Number of call emissions \\n to hear all echoes twice \\n 90percentile',\n",
    "               labelpad=10, fontsize=10)\n",
    "cbar1.set_ticks(np.linspace(1/14.0, 13/14.0,7)*6 + 2 )\n",
    "cbar1.set_ticklabels([2,3,4,5,6,7,8])\n",
    "cbar1.update_ticks()\n",
    "plt.text(-0.2, 2.8, 'Number of conspecific masker calls',\n",
    "        fontsize=14)\n",
    "plt.text(-0.1, 22, 'B', fontsize=20)\n",
    "plt.show()\n",
    "\n",
    "######\n",
    "\n",
    "ax2 = plt.subplot(133)\n",
    "im2 = ax2.imshow(numtrials_alldata_medianechoes, aspect='equal', cmap=plt.cm.get_cmap('plasma', 2), \n",
    "                                   origin='lower',extent=[0.5,32.5,0.5,32.5])\n",
    "ticks=np.arange(1,31,4)+0.5;\n",
    "plt.gca().set_xticks(ticks); \n",
    "plt.gca().set_yticks(ticks)\n",
    "plt.gca().tick_params(axis='both', which='major', labelsize=13)\n",
    "ax2.set_xticklabels(np.arange(1,31,4))\n",
    "ax2.set_yticklabels([])\n",
    "\n",
    "grid_ticks = np.arange(1,33,2)\n",
    "ax2.vlines(grid_ticks-0.5,0.5,32.5, linewidth=lwd)\n",
    "ax2.hlines(grid_ticks-0.5,0.5,32.5, linewidth=lwd)\n",
    "\n",
    "divider = make_axes_locatable(ax2)\n",
    "cax2 = divider.new_vertical(size=\"7%\", pad=0.8, pack_start=True)\n",
    "fig.add_axes(cax2)\n",
    "cbar2 = fig.colorbar(im2, cax=cax2, orientation=\"horizontal\")\n",
    "cbar2.set_label('Number of call emissions \\n to hear $\\geq $ majority of echoes once \\n 90percentile',\n",
    "               labelpad=10, fontsize=10)\n",
    "cbar2.set_ticks([1.25,1.75])\n",
    "cbar2.set_ticklabels([1,2])\n",
    "cbar2.update_ticks()\n",
    "plt.text(-0.1, 22, 'C', fontsize=20)\n",
    "plt.show()\n"
   ]
  },
  {
   "cell_type": "markdown",
   "metadata": {},
   "source": [
    "plt.savefig(os.path.join('plots','multipanel_numcallemissions_ROUND2.png'), dpi=400,pad_inches = 0, bbox_inches='tight')"
   ]
  }
 ],
 "metadata": {
  "anaconda-cloud": {},
  "kernelspec": {
   "display_name": "Python [conda env:theCPN]",
   "language": "python",
   "name": "conda-env-theCPN-py"
  },
  "language_info": {
   "codemirror_mode": {
    "name": "ipython",
    "version": 2
   },
   "file_extension": ".py",
   "mimetype": "text/x-python",
   "name": "python",
   "nbconvert_exporter": "python",
   "pygments_lexer": "ipython2",
   "version": "2.7.12"
  }
 },
 "nbformat": 4,
 "nbformat_minor": 2
}
