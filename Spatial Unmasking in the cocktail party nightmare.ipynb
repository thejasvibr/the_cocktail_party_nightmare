{
 "cells": [
  {
   "cell_type": "markdown",
   "metadata": {},
   "source": [
    "# This notebook will deal with how we quantify the call-echo masking a bat may be experiencing based on the angular separation of the target echo and the masker call. Using data from an experimental study we will build a conceptual framework and follow it up with code that implements this logic"
   ]
  },
  {
   "cell_type": "code",
   "execution_count": 2,
   "metadata": {
    "collapsed": false
   },
   "outputs": [
    {
     "name": "stdout",
     "output_type": "stream",
     "text": [
      "('this notebook was last exported/run on', '2017-12-10_18-45')\n"
     ]
    }
   ],
   "source": [
    "import datetime\n",
    "print ('this notebook was last exported/run on', datetime.datetime.now().strftime('%Y-%m-%d_%H-%M'))"
   ]
  },
  {
   "cell_type": "markdown",
   "metadata": {},
   "source": [
    "### We know that the human and bat (& other animals?) auditory system has a hard time separating out two temporally overlapping sounds if one of them is louder than the other, and especially if the two sounds arrive from the same direction. This means that the softer sound is not heard, and is called masking. The same situation occurs when a bat is trying to echolocate in the presence of conspecifics. The echoes that return may not be heard, which means the bat may not be able to detect objects in its vicinity. \n",
    "\n",
    "### However, if the masker and the target sound arrive from different directions, auditory systems are able to tell apart the two sounds using cues from the time of arrival differences between the two ears, or the intensity differences too perhaps [REF]. This means that as the angle of arrival between the target and the masker increases the auditory system is better able to tell apart sounds that are temporally overlapping [Human REFS]. This capability means that bats are potentially able to echolocate and perceive echoes even in situations where there are many overlaps between an echo and another incoming sound. This modelling exercise will try to quantify how much the echolocation of a bat is benefitted by the presence of these auditory-cognitive mechanisms.\n",
    "\n",
    "### There are two dimensions along which overlapping sounds can arrive in, time and space. Temporally, an echo-masker pair can cause masking in three configurations:\n",
    "#### 1) Forward masking: the masker arrives ahead of the echo\n",
    "#### 2) Simultaneous masking: the masker and the echo arrive overlap completely in time \n",
    "#### 3) Backward masking: the echo arrives ahead of the masker\n",
    "\n",
    "### In general with temporal masking, the closer the echo-masker are in time, the more masking occurs, which means a higher intensity is required for the echo to be heard at the same masker intensity. Additionally, though not shown in bats, it is known in humans that forward masking occurs at longer target-masker arrival delays than backward masking. The real occurence of backward masking itself is disputed [audio handbook ref, Yost textbook ref]. eg. forward masking in humans can occur over timescales of $\\Delta_{time\\ of\\ arrival} <= 75-100$ milliseconds, while backward masking occurs only with $\\Delta_{time\\ of\\ arrival} < 50$ milliseconds.\n",
    "\n",
    "### Spatially, the echo and masker can arrive with the same angle of arrival with $\\theta_{separation} = 0$ or with a difference in the angle of arrivals: $\\theta_{separation} > 0$. It is known from studies in multiple species [REFS] that as the $\\theta_{separation}$ between temporally overlapping target and masker increases, the threshold for hearing the target actually drops. This is called 'spatial unmasking', and means that when bats are flying in the presence of other echolocators, and the $\\theta_{separation}$ of echo and conspecific masking call is beyond a certain $\\theta_{separation}$, then it may possible present no problem to the bat.\n",
    "\n",
    "\n"
   ]
  },
  {
   "cell_type": "markdown",
   "metadata": {
    "collapsed": true
   },
   "source": [
    "# Echo-masker configurations : \n",
    "\n",
    "## Since we have three kinds of temporal masking and two kinds of $\\theta_{separation}$ ( 0 and >0), we get 6 overall kinds of echo-masker combinations:\n",
    "\n",
    "### *The table and diagram below correspond to each other in their positions*\n",
    "\n"
   ]
  },
  {
   "cell_type": "code",
   "execution_count": 3,
   "metadata": {
    "collapsed": false
   },
   "outputs": [
    {
     "data": {
      "text/html": [
       "<table>\n",
       "<tbody>\n",
       "<tr><td>1) $\\theta_{separation} = 0$ + Forward masking     </td><td>2) $\\theta_{separation} >0$ + Forward masking     </td></tr>\n",
       "<tr><td>3) $\\theta_{separation} = 0$ + Simultaneous masking</td><td>4) $\\theta_{separation} >0$ + Simultaneous masking</td></tr>\n",
       "<tr><td>5) $\\theta_{separation} = 0$ + Backward masking    </td><td>6) $\\theta_{separation} >0$ + Backward masking    </td></tr>\n",
       "</tbody>\n",
       "</table>"
      ],
      "text/plain": [
       "<IPython.core.display.HTML object>"
      ]
     },
     "metadata": {},
     "output_type": "display_data"
    }
   ],
   "source": [
    "from IPython.display import HTML, display\n",
    "import tabulate # thanks ruffsl goo.gl/WnMRoY\n",
    "table = [[ '1) $\\\\theta_{separation} = 0$ + Forward masking','2) $\\\\theta_{separation} >0$ + Forward masking'],\n",
    "[ '3) $\\\\theta_{separation} = 0$ + Simultaneous masking',  '4) $\\\\theta_{separation} >0$ + Simultaneous masking'],\n",
    "['5) $\\\\theta_{separation} = 0$ + Backward masking','6) $\\\\theta_{separation} >0$ + Backward masking']]\n",
    "display(HTML(tabulate.tabulate(table,tablefmt='html')))"
   ]
  },
  {
   "cell_type": "markdown",
   "metadata": {},
   "source": [
    "!['foward masking and SUM'](img/masking_types.jpg)\n",
    "### Though there are these 6 possible kinds of echo-masker configurations - we still have a set of parameters undefined :\n",
    "### 1) Relative intensities of echo and masker \n",
    "### 2) Time ranges over which forward/backward masking occur\n",
    "### 3) $\\theta_{separation}$ at which spatial unmasking begins to occur\n"
   ]
  },
  {
   "cell_type": "markdown",
   "metadata": {},
   "source": [
    "# A  Quick Literature Survey : \n",
    "## There are a bunch of studies which have either actively investigated masking, or where masking occurs as part of the study design. I looked into the bat psychoacoustics literature to get some estimates of the above parameters in each case, presented here as a table.\n",
    "\n",
    "## Here it is important to note that when I use the terms 'forward' or 'backward' masking I also include situations where there is echo+masker overlap. For eg. when a masker arrived before an echo, and then overlaps it also - I still refer to this as 'forward' masking. Typically, one would refer to forward/backward masking when there is no overlap at all. "
   ]
  },
  {
   "cell_type": "code",
   "execution_count": 4,
   "metadata": {
    "collapsed": false
   },
   "outputs": [
    {
     "data": {
      "text/html": [
       "<table>\n",
       "<tbody>\n",
       "<tr><td>1) $\\theta_{separation} = 0 + Forward\\ masking$ : Miller 1991, Ruihong et al. 2003,                chp 36 Siewert et al. Echolocation in Dolphins and Bats</td><td>2) $\\theta_{separation} >0$ + $Forward\\ masking$: ????                                                           </td></tr>\n",
       "<tr><td>3) $\\theta_{separation} = 0$ + $Simultaneous\\ masking$:  Troest & Mohl 1986                                                                               </td><td>4) $\\theta_{separation} >0$ + $Simultaneous\\ masking$: Warnecke et al. 2014, $\\theta_{separation}$ = $90^{\\circ}$</td></tr>\n",
       "<tr><td>5) $\\theta_{separation} = 0$ + $Backward\\ masking$: Suemer et al. 2009,Mohl and Surlykke 1989                                                             </td><td>6) $\\theta_{separation} >0$ + $Backward\\ masking$: Suemer et al. 2009, $\\theta_{separation}$: $0- 23^{\\circ}$    </td></tr>\n",
       "</tbody>\n",
       "</table>"
      ],
      "text/plain": [
       "<IPython.core.display.HTML object>"
      ]
     },
     "metadata": {},
     "output_type": "display_data"
    }
   ],
   "source": [
    "table_wrefs = [[ '1) $\\\\theta_{separation} = 0 + Forward\\ masking$ : Miller 1991, Ruihong et al. 2003,\\\n",
    "                chp 36 Siewert et al. Echolocation in Dolphins and Bats',\n",
    "'2) $\\\\theta_{separation} >0$ + $Forward\\ masking$: ????'],              \n",
    "[ '3) $\\\\theta_{separation} = 0$ + $Simultaneous\\ masking$:  Troest & Mohl 1986',\n",
    " '4) $\\\\theta_{separation} >0$ + $Simultaneous\\ masking$: Warnecke et al. 2014, $\\\\theta_{separation}$ = $90^{\\circ}$'],\n",
    "['5) $\\\\theta_{separation} = 0$ + $Backward\\ masking$: Suemer et al. 2009,Mohl and Surlykke 1989',\n",
    " '6) $\\\\theta_{separation} >0$ + $Backward\\ masking$: Suemer et al. 2009, $\\\\theta_{separation}$: $0- 23^{\\circ}$']]\n",
    "display(HTML(tabulate.tabulate(table_wrefs,tablefmt='html')))"
   ]
  },
  {
   "cell_type": "markdown",
   "metadata": {},
   "source": [
    "## Following this broad summary of the studies with various parameters, let us now take a look at the range of values reported in the studies:\n",
    "\n",
    "## 1) *$\\theta_{separation}=0 + Forward\\ masking$ : *\n",
    "\n",
    "### > [$Miller\\ 1991$](https://link.springer.com/article/10.1007/BF00215079) : studied how ultrasonic clicking of moths may affect prey/object ranging in echolocating bats. Ultrasonic clicks were played back when triggered by the bat's calls and were timed to arrive within a particular time delay of a phantom echo. Bats were trained to distinguish between two echoes, a 'near' and 'far' phantom echoes - and had to indicate the echo type on playback. The clicks and echoes were presented from the same speaker.\n",
    "\n",
    "### When clicks arrived within 1.5 milliseconds of the phantom echo, the bats could not distinguish between the 'far' and the 'near' echo types properly. This *may* indicate some kind of masking that occured at these echo-click delays. \n",
    "\n",
    "### Caveats to consider: the study results may also be the result of further masking from the clutter echoes as in some experimental treatments there was temporal overlap of the phantom echoes and clicks with the echo from the loudspeaker. \n",
    "\n",
    "\n",
    "### Echo level : 68 dB peSPL re 20$\\mu$Pa\n",
    "### Masker (click) level: 64 dB peSPL (calculated).\n",
    "### Masking time range : <=1.5 milliseconds. \n",
    "### Study species : *Eptesicus fuscus*\n",
    "\n",
    "\n",
    "### >  [$Ruihong\\ et\\ al.\\ 2003$](https://link.springer.com/article/10.1360/02wc0570) : studied how neurons in the Inferior Colliculus (IC) respond to the presence of a loud sound that preced the target sound. This is somewhat analogous to forward masking in psychoacoustics. The masker and the target were sinusoids of the best frequency of the probed neuron. When the time gap between the 'masker' and the 'target' sound increased beyond 3 milliseconds, the response of the IC neurons increased. When the masker and target were close in time, there was a 'suppression' in neuronal activity seen. The masker was presented at 10,20 & 30 dB above the minimum threshold, and the time gaps between the masker and target were also varied between 1,3,6,9 and 12 milliseconds.\n",
    "\n",
    "### Caveats to consider: This study was done on anesthetised bats, and playbacks were done monaurally. It may also be difficult to interpret the IC neuron response in terms of what the bat may actually experience perceptually? The 'target' sound was also a single frequency tone, rather than a echolocation-like call.\n",
    "\n",
    "\n",
    "### Target sound level: varying - depends on the neuronal unit being measured\n",
    "### Masker level: 10,20 & 30 dB above the minimum threshold level\n",
    "### Masking time range : <=3 milliseconds. \n",
    "### Study species: *Eptesicus fuscus*\n",
    "\n",
    "### > [$Siewert\\ et\\ al.\\ 2004\\, (chapter\\ 36)$](http://press.uchicago.edu/ucp/books/book/chicago/E/bo3612864.html): Bats were trained to fly towards a speaker playing back a test signal. The test signal was a *Megaderma lyra* multiharmonic approach call. The test signal was played back in the presence of broadband noise with decreasing power from 10-100 KHz. In Experiment 2, the delay between the end of the broadband noise and start of the test signal was varied between 24 to -6 ms. The noise pulse was 40 milliseconds long. The same hearing thresholds as reached under no noise conditions was reached at 30-40 ms. *'In our experiment, the detection thresholds increased by about 6 dB per delay half reduction'.*\n",
    "\n",
    "### Target sound level: (varied with time delay) , Masker sound level: 45 dB peSPL \n",
    "### Masking time range: 30-40 ms\n",
    "### Study species: *Megaderma lyra*\n",
    "\n",
    "### Caveats to consider: ?\n",
    "\n"
   ]
  },
  {
   "cell_type": "markdown",
   "metadata": {},
   "source": [
    "\n",
    "## 2) *$\\theta_{separation}>0 + Forward\\ masking$ : *\n",
    "\n",
    "## *As of now, have not been able to find relevant papers*"
   ]
  },
  {
   "cell_type": "markdown",
   "metadata": {},
   "source": [
    "\n",
    "\n",
    "## 3) *$\\theta_{separation} = 0$ + $Simultaneous\\ masking$*\n",
    "\n",
    "### >[$Troest\\ and\\ Mohl\\ 1986$](https://link.springer.com/article/10.1007%2FBF00604175?LI=true): Bats were trained to tell if there was a phantom echo present or not by moving to one side of a two choice setup. Noise and phantom echoes were played from a single speaker. The noise was a broadband white noise with power spectral density of $-113\\ dB\\ re\\ 1\\ \\frac{Pa}{\\sqrt{Hz}}$, and the phantom echo was a replicate of the bat call. \n",
    "\n",
    "\n",
    "\n",
    "### Target phantom echo level: without noise: 40-48 dB peSPL re 20$\\mu$Pa , *with noise* : 47-58 dB peSPL, $\\Delta$ increase of 7-10 dB peSPL in the presence of noise.\n",
    "### Masker sound level: 55 dB pe SPL  (calculated)\n",
    "### Masking time range: NOT VALID, simultaneous masking\n",
    "### Study species: *Eptesicus serotinus*\n",
    "\n",
    "### Caveats to consider: ?\n",
    "### $\\Delta$  target-masker dB SPL :  47-58 - 55 = -8 to +3  dB \n",
    "\n",
    "\n",
    "\n",
    "### >[$Mohl\\ and\\ Surlykke\\ 1989$](https://link.springer.com/article/10.1007%2FBF00613805?LI=true): Bats were trained to tell if there was a phantom echo present or not in the presence of a noise signal that varied in delay. Simultaneous to backward masking situations were investigated. \n",
    "### For simultaneous masking experiments the noise was broadband with $-5\\ dB\\ \\frac{SPL}{\\sqrt(Hz)}$ with durations of 2-37.5 milliseconds.\n",
    "### Simulatenous masking was also tested at the the zero delay of the backward masking experiments, a broadband noise with $16\\ dB\\ \\frac{SPL}{\\sqrt(Hz)}$ power spectral density was used of 5 milliseconds.\n",
    "\n",
    "### *simultaneous masking experiment results:*\n",
    "### Target phantom echo level: without noise:37-38 dB SPL re 20$\\mu$Pa , *with noise* : (adding 15 dB) 52-53 dB peSPL, $\\Delta$ increase of 15 dB  in the presence of noise.\n",
    "### Masker sound level: *to be calculated*\n",
    "\n",
    "\n",
    "### *zero delay of backward masking experiment results:*\n",
    "### Target phantom echo level: without noise:37-38 dB SPL re 20$\\mu$Pa , *with noise* : (adding ~35 dB) 72-73 dB peSPL, $\\Delta$ increase of 35 dB  in the presence of noise (graphical estimate).\n",
    "### Masker sound level: *to be calculated*\n",
    "\n",
    "\n",
    "### Masking time range: NOT VALID, simultaneous masking\n",
    "### Study species: *Eptesicus serotinus*\n",
    "\n",
    "### Caveats to consider: ?\n",
    "\n",
    "### > [$Siewert\\ et\\ al.\\ 2004\\, (chapter\\ 36)$](http://press.uchicago.edu/ucp/books/book/chicago/E/bo3612864.html): See 1) for experiment description. There was a complete overlap of test signal and noise at the -6 millisconds delay between noise and test signal, the experiment looked at simultaneous masking. \n",
    "\n",
    "\n",
    "\n",
    "### *-6 milliseconds delay of forward masking experiment results:*\n",
    "### Target phantom echo level: without noise (for 2ms test signal) : 6.7 dB SPL re 20$\\mu$Pa , *with noise* :36 dB SPL(graphical estimate),\n",
    "### $\\Delta$ increase of 29.3 dB  in the presence of noise .\n",
    "### Masker sound level: 45 dB SPL\n",
    "### $\\Delta$  target-masker dB SPL : 36 - 45 = -9  dB \n",
    "\n",
    "\n",
    "\n",
    "\n",
    "\n",
    "\n",
    "\n",
    "\n"
   ]
  },
  {
   "cell_type": "markdown",
   "metadata": {},
   "source": [
    "## 4) *$\\theta_{separation} >0$ + $Simultaneous\\ masking$*\n",
    "\n",
    "### >[$Warnecke\\ et\\ al.\\ 2014$](http://asa.scitation.org/doi/abs/10.1121/1.4869483): Bats were trained to detect a target echo sound played from either a left or right speaker set at a fixed angle at 0 azimuth. Two speakers at 90 degrees elevation were used to play back clutter echoes that would simultaneously mask the target echo. All combination of paired clutter-echo speaker playbacks were carried out, and no effect was seen in any of the treatments. \n",
    "\n",
    "\n",
    "\n",
    "### Target phantom echo level:  ???? dB peSPL re 20$\\mu$Pa\n",
    "### Masker level: ??\n",
    "### Masking time range: NOT VALID, simultaneous masking\n",
    "### $\\theta_{separation}:  >=90^{\\circ}$ vertical separation\n",
    "### Study species: *Eptesicus fuscus*\n",
    "\n"
   ]
  },
  {
   "cell_type": "markdown",
   "metadata": {},
   "source": [
    "## 5) $\\theta_{separation} = 0$ + $Backward\\ masking$\n",
    "\n",
    "### >[$Mohl\\ and\\ Surlykke\\ 1989$](https://link.springer.com/article/10.1007%2FBF00613805?LI=true): For experiment description see above in 3). In backward masking experiments, the noise was broadband noise with power spectral density of $16\\ dB\\ \\frac{SPL}{\\sqrt(Hz)}$ of 5 millisecond duration. When the noise followed the phantom echo beyond 2 milliseconds the bats showed similar hearing thresholds as the reference silence.\n",
    "\n",
    "\n",
    "\n",
    "### Target phantom echo level:  ???? dB peSPL re 20$\\mu$Pa\n",
    "### Masker sound level: *to be calculated*\n",
    "### Masking time range: < 2 milliseconds\n",
    "### Study species: *Eptesicus fuscus*\n",
    "\n",
    "\n",
    "### >[$ Sümer\\ et\\ al.\\ 2009$](https://link.springer.com/article/10.1007/s00359-009-0424-9): Bats were trained to identify if a target echo (reflected by a thin wire) was present in the presence of a masking echo ( big flat plate) which arrived soon after the target echo. The intensity of the target echo was varied by changing the diameter of the wire and the delay of the masker echo was varied by changing its distance behind the target wire. All thresholds reported here are for the 75% correct criterion. \n",
    "\n",
    "\n",
    "### Caveats to consider: the target strength measurements reported were estimated with a downward sweep playback. Most speaker constructions have a limited directionality, and this means a bat may perceive much higher echo levels as they can ensonify greater volumes than speakers even at high frequencies. \n",
    "\n",
    "### Target echo level: (calculated) 1.2mm wire had target strength of -36.8 at 1m distance. \n",
    "####  For source levels of 97.9-105.2 dB peSPL (10cm), this is 77.9-85.2 dB peSPL (1m) , and the echo levels are then:\n",
    "###  41.1-68.4 dB peSPL\n",
    "### Masker sound level: \n",
    "#### (calculated) target echo level + 22.3 dB, which is then in the range of\n",
    "### 63.4-90.7 dB peSPL\n",
    "### Masking time range: < 0.65 milliseconds\n",
    "### Study species: *Eptesicus fuscus*\n",
    "### $\\Delta$  target-masker dB SPL :  -22.3 dB \n",
    "\n"
   ]
  },
  {
   "cell_type": "markdown",
   "metadata": {
    "collapsed": true
   },
   "source": [
    "## 6) $\\theta_{separation} >0$ + Backward masking\n",
    "\n",
    "### >[$ Sümer\\ et\\ al.\\ 2009$](https://link.springer.com/article/10.1007/s00359-009-0424-9): See 5) above for experimental details. Keeping the target echo's direction the same, the masking echo's angle of arrival was altered by moving the flat plate at different angles with the radial distance 11cm behind the target echo. This kept the masker echo at the 75% detection delay distance (at $0^{\\circ}$ angle). If spatial unmasking is present, it is expected that bats will be able to detect progressively softer echoes as the angle between the masker and the echo increases. This was implemented by changing the diameter of the target wire.\n",
    "\n",
    "\n",
    "### Target echo level: (calculated) 61.1-68.4 dB peSPL.\n",
    "#### Calculation : 1.2mm wire had target strength of -36.8 at 1m distance. For source levels of 97.9-105.2 dB peSPL (10cm), this is 77.9-85.2 dB peSPL (1m). The echo levels are thus the source levels at 1m - target strength.\n",
    "### Masker sound level: (calculated) 83.4-90.7 dB peSPL.\n",
    "#### Calculation: the flat plate had a target strength 22.3 dB greated than the target wire. Thus, the the target echo level + 22.3 dB, which is then in the range of  63.4 to 90.7 ( 61.1+22.3 - 68.4+22.3) dB peSPL\n",
    "### Masking time range: < 0.65 milliseconds\n",
    "### Masking angle range : < $22.3^{\\circ}$. The echo level dropped to no masker leves beyond 22.3$^{\\circ}$\n",
    "#### Approximation : I would like to approximate the drop as a linear drop from -37 to -64 dB target strength across the 22.3$^{\\circ}$, which is ~-1.2dB/$\\theta_{separation}^{\\circ}$ for all $\\theta_{separation} < 23^{\\circ}$ . This means for a masker that is 83.4-90.7 dB peSPL , the echo hearing threshold drops from 61.1-68.4 all the way to 19.4-26.7 dB peSPL. \n",
    "### Study species: *Eptesicus fuscus*\n",
    "### $\\Delta$  target-masker dB SPL : worst is  -22.3 down to -64 dB  \n",
    "\n",
    "\n"
   ]
  },
  {
   "cell_type": "markdown",
   "metadata": {},
   "source": [
    "# Putting it all together:\n",
    "## The studies above provide an important starting point in trying to quantify how much spatial unmasking contributes to the alleviation of the cocktail party nightmare. In general here are some of the overall patterns that I can put together :\n",
    "\n",
    "* ## *Bats are able to listen to target echoes even when they are very faint*:\n",
    "  ### The range of $\\Delta dB\\ SPL$ between the target echo and the masker sound lies in the range of -22.3 to -8 dB when the sounds are in the same direction. This is a *very* large difference if one considers that on a linear scale, this means the echo was 7 - 40 % of the maskers level. \n",
    "\n",
    "  ### This means that, even in the absence of exact $\\Delta dB\\ SPL$ values for situations where the echo and masker arrive from different directions , if the value is above -8 dB, the bat could hear it. This is a conservative estimate, because the co-localised situation is the toughest for bat echo perception, as it does not provide additional inter-aural cues such as time of arrival or level differences.\n",
    "  \n",
    "  ### *This is a conservative estimate, as it takes the highest required echo-masker level difference of the numbers from all   studies. *\n",
    "\n",
    "* ## *Forward masking in bats could occur for upto a few milliseconds *:\n",
    "  ### Siewert et al. XXYY have shown that the effect of forward masking because of noise has an effect over much longer durations than anticipated before. This might mean that \n",
    "\n",
    "* ## *Backward masking in bats could occur upto 2 milliseconds*\n",
    "\n",
    "* ## *Bats can unmask masker and echo that arrive beyond 23 $^\\circ$ completely - without any required rise in level*\n",
    "\n"
   ]
  },
  {
   "cell_type": "code",
   "execution_count": 8,
   "metadata": {
    "collapsed": false
   },
   "outputs": [
    {
     "data": {
      "text/plain": [
       "0.39810717055349726"
      ]
     },
     "execution_count": 8,
     "metadata": {},
     "output_type": "execute_result"
    }
   ],
   "source": [
    "10**(-8/20.0)"
   ]
  },
  {
   "cell_type": "code",
   "execution_count": null,
   "metadata": {
    "collapsed": true
   },
   "outputs": [],
   "source": []
  },
  {
   "cell_type": "code",
   "execution_count": null,
   "metadata": {
    "collapsed": true
   },
   "outputs": [],
   "source": []
  },
  {
   "cell_type": "code",
   "execution_count": null,
   "metadata": {
    "collapsed": true
   },
   "outputs": [],
   "source": []
  }
 ],
 "metadata": {
  "anaconda-cloud": {},
  "kernelspec": {
   "display_name": "Python [conda root]",
   "language": "python",
   "name": "conda-root-py"
  },
  "language_info": {
   "codemirror_mode": {
    "name": "ipython",
    "version": 2
   },
   "file_extension": ".py",
   "mimetype": "text/x-python",
   "name": "python",
   "nbconvert_exporter": "python",
   "pygments_lexer": "ipython2",
   "version": "2.7.12"
  }
 },
 "nbformat": 4,
 "nbformat_minor": 1
}
