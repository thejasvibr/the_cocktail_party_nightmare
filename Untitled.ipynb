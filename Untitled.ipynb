{
 "cells": [
  {
   "cell_type": "code",
   "execution_count": 7,
   "metadata": {
    "collapsed": false
   },
   "outputs": [
    {
     "name": "stdout",
     "output_type": "stream",
     "text": [
      "(0.0009999275207519531, 0.002000093460083008)\n"
     ]
    }
   ],
   "source": [
    "import  time\n",
    "import numpy as np \n",
    "import scipy.signal as signal \n",
    "\n",
    "a = np.random.normal(0,1,100000).reshape((-1,10))\n",
    "\n",
    "start = time.time()\n",
    "column_means = np.apply_along_axis(np.mean,0,a)\n",
    "end = time.time()\n",
    "\n",
    "start_2 = time.time()\n",
    "col_means = []\n",
    "for j in range(a.shape[1]):\n",
    "    col_means.append(np.mean(a[:,j]))\n",
    "end_2 = time.time()\n",
    "\n",
    "print(end-start,end_2-start_2)\n"
   ]
  },
  {
   "cell_type": "code",
   "execution_count": null,
   "metadata": {
    "collapsed": true
   },
   "outputs": [],
   "source": []
  }
 ],
 "metadata": {
  "kernelspec": {
   "display_name": "Python [conda root]",
   "language": "python",
   "name": "conda-root-py"
  },
  "language_info": {
   "codemirror_mode": {
    "name": "ipython",
    "version": 2
   },
   "file_extension": ".py",
   "mimetype": "text/x-python",
   "name": "python",
   "nbconvert_exporter": "python",
   "pygments_lexer": "ipython2",
   "version": "2.7.12"
  }
 },
 "nbformat": 4,
 "nbformat_minor": 1
}
