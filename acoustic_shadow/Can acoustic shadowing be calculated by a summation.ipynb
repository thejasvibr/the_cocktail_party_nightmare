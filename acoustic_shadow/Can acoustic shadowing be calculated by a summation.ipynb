{
 "cells": [
  {
   "cell_type": "markdown",
   "metadata": {
    "collapsed": true
   },
   "source": [
    "## What is 'shadow strength' ? \n",
    "Right now in the 'detailed sound propagation' I implement acoustic shadowing by calculating the effective reduction in sound pressure level only because of the object, and not because of spherical spreading. Eg. the bistatic target strength of the sphere I measured at 180$^{\\circ}$ separation was -9 dB. This is including the spherical spreading of -6 dB from source to receiver. Therefore the effective 'shadow strenght' of the object is -3 dB. \n",
    "\n",
    "\n",
    "## Applying shadow strength to the multi target case:\n",
    "If a single objects effective shadow strength is -3 dB - what is the effective shadow strength of multiple objects?\n",
    "(see figure below) Is it correct to apply a 'lienar' calculation ie.\n",
    "\n",
    "$Shadow \\: strength_{Nbody} = \\sum_{i=0}^{i=Nbody}shadow \\: strength_{i}$\n",
    "\n",
    "![](imgs/emitter-receiver.png)\n",
    "\n",
    "\n",
    "Therefore while calculating the received level of sound with multiple bodies in between  -  it would be :\n",
    "$  RL = SL -TL + Shadow \\: strength_{Nbody}$\n",
    "\n",
    "where $TL = 20log_{10}(R_{emitter-receiver}/R_{o})$ and $ SL$ is the source level at $R_{o}$.\n",
    "\n"
   ]
  },
  {
   "cell_type": "markdown",
   "metadata": {},
   "source": [
    "### Vs doing it 'serially' : for example I could also calcualte the final received level through the bistatic sonar equation 21 in  [[1]](#references) :\n",
    "\n",
    "$RL = SL - TL_{1} - TL{2} + TS $, where $TL_{1,2}$ are the transmission losses through spherical spreading $20log{10}(R_{1/2}/R_{o})$ and medium absorption-  which I will not consider right now. "
   ]
  },
  {
   "cell_type": "markdown",
   "metadata": {
    "collapsed": true
   },
   "source": [
    "Let's treat the above case where $R_{emitter-receiver} = 3.0$ , SL = 100 dB SPL at 1m, TS = -9\n",
    "\n",
    "With plain spherical spreading,a no obstacles, the received level will be :"
   ]
  },
  {
   "cell_type": "code",
   "execution_count": 70,
   "metadata": {
    "collapsed": true
   },
   "outputs": [],
   "source": [
    "import numpy as np "
   ]
  },
  {
   "cell_type": "code",
   "execution_count": 177,
   "metadata": {
    "collapsed": false
   },
   "outputs": [
    {
     "name": "stdout",
     "output_type": "stream",
     "text": [
      "80.0\n"
     ]
    }
   ],
   "source": [
    "SL = 100; TS= -9 ; R_emitterreceiver = 10.0\n",
    "# Ro is 1m and so we won't have to do any more divisions. \n",
    "RL_noobstacles = SL - 20*np.log10(R_emitterreceiver)  \n",
    "print(RL_noobstacles )"
   ]
  },
  {
   "cell_type": "markdown",
   "metadata": {
    "collapsed": true
   },
   "source": [
    "And now let's include the two obstacles. First let's treat the emitter-obstacle1-obstacle2 as the 3 body system. Obstacle 2 is treated as the receiver:"
   ]
  },
  {
   "cell_type": "code",
   "execution_count": 178,
   "metadata": {
    "collapsed": false
   },
   "outputs": [
    {
     "name": "stdout",
     "output_type": "stream",
     "text": [
      "91.0\n"
     ]
    }
   ],
   "source": [
    "Ret1 = 1; Rt1t2 = 1; Rt2rec = R_emitterreceiver - Ret1 - Rt1t2\n",
    "RL_obst2 = SL - 20*np.log10(Ret1) - 20*np.log10(Rt1t2) + TS\n",
    "print(RL_obst2)"
   ]
  },
  {
   "cell_type": "markdown",
   "metadata": {
    "collapsed": true
   },
   "source": [
    "The received level is 99.5 dB SPL at Obstacle 2. We now will convert this received level into an 'effective' source level. We know sound arrived from 1.25 metres away, and thus the effective source level at 1metre is:\n"
   ]
  },
  {
   "cell_type": "code",
   "execution_count": 179,
   "metadata": {
    "collapsed": false
   },
   "outputs": [
    {
     "name": "stdout",
     "output_type": "stream",
     "text": [
      "97.02059991327963\n"
     ]
    }
   ],
   "source": [
    "SL_obstacle2_1m =  RL_obst2 - 20*np.log10(1.0/(Ret1+Rt1t2) ) \n",
    "print(SL_obstacle2_1m)"
   ]
  },
  {
   "cell_type": "markdown",
   "metadata": {},
   "source": [
    "Now, let's mimic what happens to the final received level of the sound at the real receiver using the same bistatic sonar equation:"
   ]
  },
  {
   "cell_type": "code",
   "execution_count": 180,
   "metadata": {
    "collapsed": false
   },
   "outputs": [
    {
     "name": "stdout",
     "output_type": "stream",
     "text": [
      "63.938200260161125\n"
     ]
    }
   ],
   "source": [
    "RL_receiver  = SL_obstacle2_1m - 20*np.log10(Ret1+Rt1t2) - 20*np.log10(Rt2rec) + TS\n",
    "print(RL_receiver)"
   ]
  },
  {
   "cell_type": "markdown",
   "metadata": {},
   "source": [
    "The difference between the with and without obstacles received levels is thus:"
   ]
  },
  {
   "cell_type": "code",
   "execution_count": 76,
   "metadata": {
    "collapsed": false
   },
   "outputs": [
    {
     "data": {
      "text/plain": [
       "7.187849755184629"
      ]
     },
     "execution_count": 76,
     "metadata": {},
     "output_type": "execute_result"
    }
   ],
   "source": [
    "RL_noobstacles - RL_receiver # dB"
   ]
  },
  {
   "cell_type": "markdown",
   "metadata": {},
   "source": [
    "However, if what I expected was right I'd expected a difference of -6 dB while I got a difference   -- this tells me things are more complicated than expected  - which means I should write a script that calculates the received levels after shadowing iteratively. "
   ]
  },
  {
   "cell_type": "code",
   "execution_count": 174,
   "metadata": {
    "collapsed": true
   },
   "outputs": [],
   "source": [
    "def calculate_RL_w_shadowing(distances, SL=100, TS=[-9]):\n",
    "    '''Calculates received level of a call with acoustic shadowing included. \n",
    "    The received level of the call with shadowing is calculated with an iterative \n",
    "    application of the bistatic sonar equation. The TS used here is the bistatic \n",
    "    target strength at emitter-receiver angular separations of 180 degrees. \n",
    "    \n",
    "    Parameters\n",
    "    ----------\n",
    "    distances : array-like, >= 3 entries. \n",
    "               The first entry is distance between emitter and closest target, followed by distance between 1st target\n",
    "               and second target etc. The sum of all distances is the receiver-emitter distance\n",
    "\n",
    "    SL : float.\n",
    "         source level at 1metre distance in dB SPl re 20 muPa\n",
    "\n",
    "    TS : array-like. \n",
    "         Bistatic target strengths of object at 180 degrees separation between emitter and receiver. \n",
    "         If multiple target strengths then a random choice is made within these values for each obstacle.\n",
    "         This mimics each object having a different TS because of its orientation or position. \n",
    "\n",
    "    Returns\n",
    "    -------\n",
    "    RL_w_shadowing : float. \n",
    "                    Received level of sound after accounting for multiple object blocking the direct path. \n",
    "  \n",
    "    '''\n",
    "    all_distance_pairs = []\n",
    "    for i, dist in enumerate(distances[:-1]):\n",
    "        if i == 0:\n",
    "            distance_pair = (dist,distances[i+1])\n",
    "        else:\n",
    "            distance_pair = ( np.sum(all_distance_pairs[-1]),distances[i+1])\n",
    "        all_distance_pairs.append(distance_pair)\n",
    " \n",
    "    \n",
    "\n",
    "    SL_1m = SL\n",
    "    for (r0,r1) in  all_distance_pairs:\n",
    "        RL_apparent = SL_1m - 20*np.log10(r0) - 20*np.log10(r1) + np.random.choice(TS,1) # received level at the target\n",
    "        SL_1m = RL_apparent - 20*np.log10(1/(r0+r1)) # equivalent source level at 1metre\n",
    "    return(RL_apparent)\n",
    "        \n",
    "        \n",
    "    "
   ]
  },
  {
   "cell_type": "code",
   "execution_count": 175,
   "metadata": {
    "collapsed": false
   },
   "outputs": [
    {
     "name": "stdout",
     "output_type": "stream",
     "text": [
      "Wall time: 234 ms\n"
     ]
    }
   ],
   "source": [
    "%time k = [calculate_RL_w_shadowing(np.random.choice(np.arange(0.5,0.9,0.05),5)) for k in range(1000)];\n"
   ]
  },
  {
   "cell_type": "code",
   "execution_count": 188,
   "metadata": {
    "collapsed": false
   },
   "outputs": [
    {
     "data": {
      "text/plain": [
       "array([89.06179974])"
      ]
     },
     "execution_count": 188,
     "metadata": {},
     "output_type": "execute_result"
    }
   ],
   "source": [
    "calculate_RL_w_shadowing([2.5,0.5])"
   ]
  },
  {
   "cell_type": "markdown",
   "metadata": {},
   "source": [
    "<a id='references'></a>\n",
    "### References\n",
    "1. Cox H (1989) Fundamentals of Bistatic Sonar. Underwater Acoustic Data Processing, ed Chan YT (KLUWER ACADEMIC PUBLISHERS), pp 3–24.\n"
   ]
  }
 ],
 "metadata": {
  "anaconda-cloud": {},
  "kernelspec": {
   "display_name": "Python [conda env:theCPN]",
   "language": "python",
   "name": "conda-env-theCPN-py"
  },
  "language_info": {
   "codemirror_mode": {
    "name": "ipython",
    "version": 2
   },
   "file_extension": ".py",
   "mimetype": "text/x-python",
   "name": "python",
   "nbconvert_exporter": "python",
   "pygments_lexer": "ipython2",
   "version": "2.7.12"
  }
 },
 "nbformat": 4,
 "nbformat_minor": 2
}
