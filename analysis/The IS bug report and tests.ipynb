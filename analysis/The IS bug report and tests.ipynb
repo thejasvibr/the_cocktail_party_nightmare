{
 "cells": [
  {
   "cell_type": "markdown",
   "metadata": {},
   "source": [
    "## The 'IS' bug report:\n",
    "\n",
    "- Thejasvi Beleyur, October 25 2019\n",
    "\n",
    "###  A bug in the CPN code was discovered over the weekend of 19-20 October that affected cocktail party nightmare simulations with group sizes larger than 256. The bug showed up as unrealistic 'np.inf' entries in the received level of secondary echoes. This meant that certain secondary echoes had infinite sound pressure level. \n",
    "\n",
    "## What caused the 'IS' bug?\n",
    "The 'is' bug happened because I (TB) misunderstood how the 'is' operator actually works in Python. I treated it like an equals to ('=='). The behaviour of == and 'is' matches well for most numbers - but fails for numbers larger than 256 as I discovered later:"
   ]
  },
  {
   "cell_type": "code",
   "execution_count": 1,
   "metadata": {},
   "outputs": [
    {
     "name": "stdout",
     "output_type": "stream",
     "text": [
      "(True, True)\n",
      "(True, True)\n",
      "(True, True)\n",
      "(True, True)\n",
      "(False, True)\n",
      "(False, True)\n"
     ]
    }
   ],
   "source": [
    "example_numbers = [0,100,255,256,257,300]\n",
    "example_numbers2 = [0,100,255,256,257,300]\n",
    "\n",
    "# if 'is' and == showed the same behaviour throughout \n",
    "# only (True, True) should be printed out all through the loop\n",
    "for a,b in zip(example_numbers, example_numbers2):\n",
    "    print(a is b, a==b)"
   ]
  },
  {
   "cell_type": "markdown",
   "metadata": {},
   "source": [
    "## Where was the wrong implementation?\n",
    "The wrong implementation happened in the path assignment routine: 'paths_2daryechoes'. All echoes in the simulations are assigned a 'route' consisting of three numbers in a tuple. Each number represents the index number of a bat, and each echo (primary and secondary) has an emitter, target and receiver. \n",
    "\n",
    "### How the path assignment works\n",
    "Example1. (2,1,2) represents bat #2 calling, the sound reflecting off bat #1 and returning to bat #2. This is a primary echo where the emitter and receiver are the same. \n",
    "\n",
    "Example2. (4,1,2) represents bat #4 calling, the sound reflecting off bat #1 and going to bat #2. This is a secondary echo where the emitter and receiver are not the same. \n",
    "\n",
    "### Why the infinite sound pressure levels\n",
    "The problem with path tuples like (1,1,4) is that it implies a zero distance between an emitter and target. The equations to calculate the received level of a sound blow up to infinity when the distance between the emitter and target is zero. \n",
    "\n",
    "### The bug:\n",
    "To generate all secondary echo paths, two for loops were used to iterate over all possible emitters, and all possible targets that could produce sounds given a known receiver. This meant that the last number in the path tuple is fixed:\n",
    "\n",
    "```\n",
    "1 def paths_2daryechoes(focal_bat, bats_xy): \n",
    "2    # make all emitter-target and target-receiver paths using the row indices as \n",
    "3    # an identifier\n",
    "4    emitters = set(range(bats_xy.shape[0])) - set([focal_bat])\n",
    "5    targets = set(range(bats_xy.shape[0])) - set([focal_bat])\n",
    "6    \n",
    "7    \n",
    "8    echo_routes = []\n",
    "9    for an_emitter in emitters:\n",
    "10        for a_target in targets:\n",
    "11            if not a_target is an_emitter:\n",
    "12                    emitter_target_focal = (an_emitter, a_target, focal_bat)\n",
    "13                    echo_routes.append(emitter_target_focal)\n",
    "14    return(echo_routes) \n",
    "```\n",
    "Line 11 above makes sure that the target and emitter bats are different. It doesn't make sense for a bat to generate echoes from itself - so we want to disallow that. \n",
    "\n",
    "Example3. Wrong path tuple : (1,1,5)\n",
    "This path tuple has bat #1 emitting, bat #1 as the target and bat #5 as the receiver. It doesn't make sense. \n",
    "\n",
    "Line 11 works perfectly fine till the number 256 - and so the moment we have more than 256 bat indices in a group - this check fails - leading to the assignment of proper path tuples (emitter and target different) and improper path tuples (emitter and target the same). \n",
    "\n",
    "This has now been fixed as of commit ```ea7f1fa...``` onwards. I also implemented a test that specifically checks that the proper number of expected secondary echeos are generated across group sizes. The current code now reads:\n",
    "```\n",
    "1 def paths_2daryechoes(focal_bat, bats_xy): \n",
    "2    # make all emitter-target and target-receiver paths using the row indices as \n",
    "3    # an identifier\n",
    "4    emitters = set(range(bats_xy.shape[0])) - set([focal_bat])\n",
    "5    targets = set(range(bats_xy.shape[0])) - set([focal_bat])\n",
    "6    \n",
    "7    \n",
    "8    echo_routes = []\n",
    "9    for an_emitter in emitters:\n",
    "10        for a_target in targets:\n",
    "11            if a_target!= an_emitter:\n",
    "12                    emitter_target_focal = (an_emitter, a_target, focal_bat)\n",
    "13                    echo_routes.append(emitter_target_focal)\n",
    "14    return(echo_routes) \n",
    "```\n",
    "Line 11 has been changed to check the target-emitter equality in a more stragithforward and reliable way. "
   ]
  },
  {
   "cell_type": "markdown",
   "metadata": {},
   "source": [
    "### Checking if simulation outputs are correct now:\n",
    "While I could isolate what I thought was the bug ... I still don't know if this is truly the case. I ran two simulations yesterday to test this bug. One set of simulations ran a group of 255 and 300 bats for 5 simulations each. Let's load and check out what the simulation outputs look like."
   ]
  },
  {
   "cell_type": "code",
   "execution_count": 2,
   "metadata": {},
   "outputs": [],
   "source": [
    "import glob\n",
    "import sys \n",
    "sys.path.append('..//CPN//')\n",
    "import dill\n",
    "import numpy as np \n"
   ]
  },
  {
   "cell_type": "code",
   "execution_count": 3,
   "metadata": {},
   "outputs": [],
   "source": [
    "def load_simresult(path_to_simresult):\n",
    "    '''\n",
    "    '''\n",
    "    with open(path_to_simresult, 'rb') as sim:\n",
    "        output = dill.load(sim)\n",
    "    return(output)"
   ]
  },
  {
   "cell_type": "code",
   "execution_count": 4,
   "metadata": {},
   "outputs": [],
   "source": [
    "post_bug_fix_results = glob.glob('post_bug_fix_simresults/*.simresults')"
   ]
  },
  {
   "cell_type": "code",
   "execution_count": 5,
   "metadata": {},
   "outputs": [
    {
     "data": {
      "text/plain": [
       "['post_bug_fix_simresults/testing_fcb94719-e71f-4ee1-b276-e3b615c0c4bc_1067853552_.simresults',\n",
       " 'post_bug_fix_simresults/testing_477e3128-e3b0-4cf5-b381-7b3f9c03e9c1_209428659_.simresults',\n",
       " 'post_bug_fix_simresults/testing_a24b7286-0995-4434-810b-bab295daf460_842392783_.simresults',\n",
       " 'post_bug_fix_simresults/testing_430b179d-dd2c-49a1-9dfc-a06196e9facf_760948913_.simresults',\n",
       " 'post_bug_fix_simresults/testing_dc29e875-d844-489b-b127-8e9a62629eec_820014527_.simresults',\n",
       " 'post_bug_fix_simresults/testing_17d427e5-904f-4edd-8bef-a37b02190783_595563844_.simresults',\n",
       " 'post_bug_fix_simresults/testing_d6e09819-1b84-402b-986c-4b4b34bb6158_227729577_.simresults',\n",
       " 'post_bug_fix_simresults/testing_ce71d3b0-b32b-4da4-85e4-1b8aaaa8b1e7_161942197_.simresults',\n",
       " 'post_bug_fix_simresults/testing_6dff7866-1126-458e-93e9-20bfd2ae8455_590908853_.simresults',\n",
       " 'post_bug_fix_simresults/testing_9649468f-1cac-4a34-93ea-b4abbe8461f6_211872461_.simresults']"
      ]
     },
     "execution_count": 5,
     "metadata": {},
     "output_type": "execute_result"
    }
   ],
   "source": [
    "post_bug_fix_results"
   ]
  },
  {
   "cell_type": "code",
   "execution_count": 6,
   "metadata": {},
   "outputs": [],
   "source": [
    "def check_all_sounds_have_finite_receivedlevel(simresult_file):\n",
    "    simoutput = load_simresult(simresult_file)\n",
    "    siminfo , simdata = simoutput\n",
    "    echoes_detected, sounds_in_ipi, group_geometry = simdata\n",
    "\n",
    "    # the group size is number of echoes +1 \n",
    "    echoes_detected.shape\n",
    "    # check if there are any anomalous received levels \n",
    "    finitelevel_secondary_echoes = np.sum(np.isinf( np.array(sounds_in_ipi['2dary_echoes']['level'])))  == 0\n",
    "    finitelevel_weird_echoes = np.sum(np.isinf(np.array(sounds_in_ipi['target_echoes']['level']))) == 0\n",
    "    finitelevel_weird_calls = np.sum(np.isinf(np.array(sounds_in_ipi['conspecific_calls']['level'], dtype='float64'))) ==0\n",
    "\n",
    "    # check that all of the sounds have finite received levels\n",
    "    all_sounds_finite = np.all([finitelevel_secondary_echoes,\n",
    "                                finitelevel_weird_echoes,\n",
    "                                finitelevel_weird_calls])\n",
    "    return(all_sounds_finite)"
   ]
  },
  {
   "cell_type": "code",
   "execution_count": 7,
   "metadata": {},
   "outputs": [],
   "source": [
    "simulation_outputs_normal = []\n",
    "for each_simresult in post_bug_fix_results:\n",
    "    simulation_outputs_normal.append(check_all_sounds_have_finite_receivedlevel(each_simresult))"
   ]
  },
  {
   "cell_type": "code",
   "execution_count": 8,
   "metadata": {},
   "outputs": [
    {
     "name": "stdout",
     "output_type": "stream",
     "text": [
      "[True, True, True, True, True, True, True, True, True, True]\n"
     ]
    }
   ],
   "source": [
    "# if everything is as expected all simulation_outputs_normal should be True for each entry\n",
    "print(simulation_outputs_normal)"
   ]
  },
  {
   "cell_type": "markdown",
   "metadata": {},
   "source": [
    "### The 'IS' bug has been fixed, and the recent simulation runs of 255 and 300 bat group sizes show that all received levels are finite. Future simulations should have no issue running with group sizes beyond 256."
   ]
  }
 ],
 "metadata": {
  "kernelspec": {
   "display_name": "Python [conda env:theCPN]",
   "language": "python",
   "name": "conda-env-theCPN-py"
  },
  "language_info": {
   "codemirror_mode": {
    "name": "ipython",
    "version": 2
   },
   "file_extension": ".py",
   "mimetype": "text/x-python",
   "name": "python",
   "nbconvert_exporter": "python",
   "pygments_lexer": "ipython2",
   "version": "2.7.15"
  }
 },
 "nbformat": 4,
 "nbformat_minor": 2
}
