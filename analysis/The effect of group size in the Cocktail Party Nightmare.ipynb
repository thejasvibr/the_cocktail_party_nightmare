{
 "cells": [
  {
   "cell_type": "markdown",
   "metadata": {},
   "source": [
    "## This notebook will analyse and visualise the results of the cocktail party nightmare as the number of bats in a group increase. The results shown here are what the centre-most bat in the group will be experiencing. "
   ]
  },
  {
   "cell_type": "code",
   "execution_count": 1,
   "metadata": {
    "collapsed": false
   },
   "outputs": [],
   "source": [
    "import re\n",
    "import glob\n",
    "import multiprocessing\n",
    "import pickle\n",
    "import sys\n",
    "sys.path.append('..//')\n",
    "\n",
    "import matplotlib.pyplot as plt \n",
    "plt.rcParams['agg.path.chunksize'] = 1000\n",
    "from extract_results_from_simoutput import *\n",
    "\n",
    "results_folder = 'D:\\\\the_cocktail_party_nightmare\\\\simulations\\\\effect_of_group_size_noshadowing\\\\'"
   ]
  },
  {
   "cell_type": "code",
   "execution_count": 2,
   "metadata": {
    "collapsed": true
   },
   "outputs": [],
   "source": [
    "group_size = [5,10,20,50,100,200]"
   ]
  },
  {
   "cell_type": "code",
   "execution_count": 3,
   "metadata": {
    "collapsed": false
   },
   "outputs": [],
   "source": [
    "result_files = {Nbats :  glob.glob(results_folder+str(Nbats)+'bats_CPN*.pkl') for Nbats in group_size}"
   ]
  },
  {
   "cell_type": "code",
   "execution_count": null,
   "metadata": {
    "collapsed": false
   },
   "outputs": [
    {
     "name": "stdout",
     "output_type": "stream",
     "text": [
      "(5, ' starting')\n",
      "(5, 'group size Done')\n",
      "(10, ' starting')\n",
      "(10, 'group size Done')\n",
      "(20, ' starting')\n"
     ]
    }
   ],
   "source": [
    "# extract properties of heard echoes \n",
    "echoesheard, r_groups , theta_groups, nn_groups, level_groups = process_simulation_outputs(results_folder, group_size,\n",
    "                                                                                         **{'detected_status':1})\n",
    "print('Done with heard echoes')\n",
    "# extract properties of unheard echoes \n",
    "echoesnotheard, r_groups_not , theta_groups_not, nn_groups_not, level_groups_not = process_simulation_outputs(results_folder,\n",
    "                                                                                                           group_size,\n",
    "                                                                                                           **{'detected_status':0})\n",
    "print('Done with unheard echoes')\n"
   ]
  },
  {
   "cell_type": "code",
   "execution_count": null,
   "metadata": {
    "collapsed": false
   },
   "outputs": [],
   "source": [
    "#with open(results_folder+'processed_effect_of_groupsize_5to200bats_noshadowing.pkl','rb') as heardechoes:\n",
    "#    [echoesheard, r_groups , theta_groups, nn_groups, level_groups] = pickle.load(heardechoes)\n",
    "#with open(results_folder+'processed_effect_of_groupsize_5to200bats_noshadowing_notheard.pkl','rb') as notheardechoes:\n",
    "#    [echoesnotheard, r_groups_not , theta_groups_not, nn_groups_not, level_groups_not] = pickle.load(notheardechoes)"
   ]
  },
  {
   "cell_type": "code",
   "execution_count": null,
   "metadata": {
    "collapsed": true
   },
   "outputs": [],
   "source": [
    "# save the output into a pickle after processing:\n",
    "with open(results_folder+'processed_effect_of_groupsize_5to200bats_noshadowing_notheard.pkl','wb') as processedoutput:\n",
    "   pickle.dump([echoesheard, r_groups_not , theta_groups_not, nn_groups_not, level_groups_not ], processedoutput)\n",
    "# save the output into a pickle after processing:\n",
    "with open(results_folder+'processed_effect_of_groupsize_5to200bats_noshadowing.pkl','wb') as processedoutput:\n",
    "    pickle.dump([echoesheard, r_groups , theta_groups, nn_groups, level_groups ], processedoutput)"
   ]
  },
  {
   "cell_type": "code",
   "execution_count": null,
   "metadata": {
    "collapsed": false
   },
   "outputs": [],
   "source": [
    "%matplotlib notebook"
   ]
  },
  {
   "cell_type": "code",
   "execution_count": null,
   "metadata": {
    "collapsed": false
   },
   "outputs": [],
   "source": [
    "plt.figure(figsize=(8,15))\n",
    "start_plotnum = 321\n",
    "plt.title('Neighbour detection map, R, $\\\\theta$');\n",
    "for i, nbats in enumerate(group_size):\n",
    "    plotnum = i + start_plotnum\n",
    "    plt.subplot(plotnum, projection='polar').set_theta_zero_location('N')\n",
    "    plt.title('Group size: '+ str(nbats))\n",
    "    if nbats >20:\n",
    "        notheard_alpha = 0.01\n",
    "    else:\n",
    "        notheard_alpha = 0.4\n",
    "\n",
    "    plt.plot(np.deg2rad(theta_groups_not[nbats]),r_groups_not[nbats],  'r*', markersize=10,\n",
    "             alpha=notheard_alpha, label='groupsize = '+str(nbats))\n",
    "    plt.plot(np.deg2rad(theta_groups[nbats]),r_groups[nbats],  'g*', markersize=10,\n",
    "             alpha=0.4, label='groupsize = '+str(nbats))\n",
    "    plt.ylim(0,5)\n",
    "    plt.xticks(np.radians([0,45,90,135,180]))\n"
   ]
  },
  {
   "cell_type": "code",
   "execution_count": null,
   "metadata": {
    "collapsed": false
   },
   "outputs": [],
   "source": [
    "echo_levels = [ level_groups[nbats] for nbats in group_size]\n",
    "echo_levels_not = [ level_groups_not[nbats] for nbats in group_size]\n",
    "\n",
    "median_echo_levels = map(lambda X : np.median(X), echo_levels)\n",
    "median_echo_levels_not = map(lambda X : np.median(X), echo_levels_not)\n",
    "plt.figure(figsize=(7,7))\n",
    "plt.violinplot(echo_levels, np.array(group_size)-0.5,'b');\n",
    "parts = plt.violinplot(echo_levels_not, np.array(group_size)+0.5,'r' )\n",
    "for ps in parts['bodies']:\n",
    "    ps.set_facecolor('red')\n",
    "    ps.set_edgecolor('red')\n",
    "plt.plot(np.array(group_size)-0.5, median_echo_levels,'b-*',label='heard echoes, median levels')\n",
    "plt.plot(np.array(group_size)+0.5, median_echo_levels_not,'r-*',label='unheard echoes, median levels')\n",
    "plt.ylabel('Echo received level at central bat \\n dB SPL re 20 $\\\\mu$Pa', fontsize=15)\n",
    "plt.xlabel('Group size', fontsize=15) ;plt.xscale('log');plt.grid();plt.ylim(20,80);\n",
    "plt.yticks(np.arange(20,82,6),fontsize=12)\n",
    "plt.xticks(group_size, group_size,fontsize=12);\n",
    "plt.legend()"
   ]
  },
  {
   "cell_type": "code",
   "execution_count": null,
   "metadata": {
    "collapsed": false
   },
   "outputs": [],
   "source": [
    "# visualise how the nearest neighbours detected changes with group size:\n",
    "plt.figure(figsize=(8,8))\n",
    "for nbats in group_size:\n",
    "    nn, nn_counts = np.unique(np.int64(nn_groups[nbats].flatten()), return_counts=True)\n",
    "    plt.title('Probability of detection nearest neighbours ')\n",
    "    plt.plot(nn, nn_counts/float(np.sum(nn_counts)), '*-', label='nbats= '+str(nbats))\n",
    "plt.ylabel('$P(Neighbour_{n\\:detection}$')\n",
    "plt.xticks([1]+np.arange(5,45,5).tolist());plt.grid()\n",
    "plt.legend()"
   ]
  },
  {
   "cell_type": "code",
   "execution_count": null,
   "metadata": {
    "collapsed": false
   },
   "outputs": [],
   "source": [
    "plt.figure()  \n",
    "for nbats in group_size:\n",
    "    nn, nn_counts = np.unique(np.int64(nn_groups[nbats].flatten()), return_counts=True)\n",
    "    plt.title('Cumulative probability of detection $P(\\leq Neighbour_{n})$')\n",
    "    plt.plot(nn, 1-np.cumsum(nn_counts/float(np.sum(nn_counts))), '*-', label='nbats= '+str(nbats))\n",
    "    plt.xlabel('Neighbour rank')\n",
    "plt.xticks(range(0,50,5));plt.grid()\n",
    "plt.legend()"
   ]
  },
  {
   "cell_type": "code",
   "execution_count": null,
   "metadata": {
    "collapsed": false
   },
   "outputs": [],
   "source": [
    "plt.figure()\n",
    "angles = [theta_groups[nbats] for nbats in group_size]\n",
    "angles_not = [theta_groups_not[nbats] for nbats in group_size]\n",
    "median_angles = map(np.median, angles)\n",
    "median_notangles = map(np.median, angles_not)\n",
    "plt.violinplot(angles, vert=False)\n",
    "plt.violinplot(angles_not, vert=False)\n",
    "plt.yticks(range(1,7), group_size);plt.xlabel('Echo reception angles, $^{\\circ}$')"
   ]
  },
  {
   "cell_type": "code",
   "execution_count": null,
   "metadata": {
    "collapsed": false
   },
   "outputs": [],
   "source": [
    "plt.figure(figsize=(8,8))\n",
    "radii_detection = [r_groups[nbats] for nbats in group_size]\n",
    "radii_nondetection = [r_groups_not[nbats] for nbats in group_size]\n",
    "median_radius = map(np.median, radii_detection)\n",
    "median_notradius = map(np.median, radii_nondetection)\n",
    "\n",
    "plt.violinplot(radii_detection, group_size)\n",
    "plt.violinplot(radii_nondetection, np.array(group_size)+1, 'r')\n",
    "plt.plot(group_size,median_radius,'C1-*',markersize=10, label='median heard')\n",
    "plt.plot(np.array(group_size)+1,median_notradius,'r-*',markersize=10, label='median unheard')\n",
    "\n",
    "plt.ylabel('Radius of echo detection \\n metres', fontsize=15)\n",
    "plt.xticks(group_size, group_size, fontsize=12);plt.xlabel('Group size', fontsize=15);\n",
    "plt.hlines(0.5,4,101, linestyle=':');plt.grid();\n",
    "plt.text(25,0.40,'Minimum inter-bat distance');plt.xscale('log'); plt.legend()"
   ]
  },
  {
   "cell_type": "code",
   "execution_count": null,
   "metadata": {
    "collapsed": false
   },
   "outputs": [],
   "source": [
    "plt.figure(figsize=(8,8))\n",
    "numechoes = [echoesheard[nbats] for nbats in group_size]\n",
    "median_numechoes = map(np.median, numechoes)\n",
    "plt.violinplot(numechoes,group_size);\n",
    "plt.plot(group_size, median_numechoes,'*-',label='median number of echoes')\n",
    "plt.ylabel(' Number of neighbours detected per call', fontsize=15);plt.grid()\n",
    "plt.xlabel('Group size',fontsize=15);plt.xscale('log');\n",
    "plt.xticks(group_size, group_size, fontsize=12);plt.yticks(np.arange(0,22,2))\n",
    "plt.legend()"
   ]
  },
  {
   "cell_type": "code",
   "execution_count": null,
   "metadata": {
    "collapsed": false
   },
   "outputs": [],
   "source": [
    "plt.figure(figsize=(8,8))\n",
    "for nbats in group_size:\n",
    "    numechoes, freq_heard = np.unique(echoesheard[nbats], return_counts=True)\n",
    "    p_numechoes = freq_heard/float(np.sum(freq_heard))\n",
    "    plt.plot(numechoes, p_numechoes, '*-', label='Group size = '+str(nbats));plt.grid()\n",
    "    plt.text(numechoes[-1]-1,p_numechoes[-1]-0.05, str(nbats)+' bats')\n",
    "plt.ylabel('Probability of detecting $N_{echoes}$ ',fontsize=15)\n",
    "plt.xticks(np.arange(0,22,2),fontsize=12);plt.grid();plt.ylim(-0.1,1)\n",
    "plt.xlabel('Number of echoes detected',fontsize=15);plt.grid()\n",
    "#plt.legend()"
   ]
  },
  {
   "cell_type": "code",
   "execution_count": null,
   "metadata": {
    "collapsed": true
   },
   "outputs": [],
   "source": []
  }
 ],
 "metadata": {
  "anaconda-cloud": {},
  "kernelspec": {
   "display_name": "Python [conda env:theCPN]",
   "language": "python",
   "name": "conda-env-theCPN-py"
  },
  "language_info": {
   "codemirror_mode": {
    "name": "ipython",
    "version": 2
   },
   "file_extension": ".py",
   "mimetype": "text/x-python",
   "name": "python",
   "nbconvert_exporter": "python",
   "pygments_lexer": "ipython2",
   "version": "2.7.12"
  }
 },
 "nbformat": 4,
 "nbformat_minor": 2
}
