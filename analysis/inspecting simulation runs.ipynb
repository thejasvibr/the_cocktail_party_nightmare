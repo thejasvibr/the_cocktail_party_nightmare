{
 "cells": [
  {
   "cell_type": "code",
   "execution_count": 51,
   "metadata": {},
   "outputs": [],
   "source": [
    "import dill as pickle\n",
    "import glob \n",
    "import matplotlib.pyplot as plt\n",
    "import pandas as pd\n",
    "import scipy.spatial as spatial\n",
    "import sys \n",
    "sys.path.append('..//CPN//')\n",
    "import numpy as np \n",
    "import tqdm"
   ]
  },
  {
   "cell_type": "code",
   "execution_count": 52,
   "metadata": {},
   "outputs": [],
   "source": [
    "results_folder = '..//simulations/multivariable_simulations//'"
   ]
  },
  {
   "cell_type": "code",
   "execution_count": 53,
   "metadata": {},
   "outputs": [],
   "source": [
    "sim_results = glob.glob(results_folder+'*.simresults')"
   ]
  },
  {
   "cell_type": "code",
   "execution_count": 54,
   "metadata": {},
   "outputs": [],
   "source": [
    "## A series of functions to parse the  simulation output\n",
    "def get_num_echoes_heard(sim_data):\n",
    "    '''\n",
    "    '''\n",
    "    num_echoes_heard = np.sum(sim_data[0])\n",
    "    return(num_echoes_heard)\n",
    "\n",
    "which_echo = {True: 1 , False:0}\n",
    "\n",
    "def get_echoids(sim_data, heard=True):\n",
    "    '''\n",
    "    '''\n",
    "    echo_indices = np.argwhere(sim_data[0]==which_echo[heard]).flatten()\n",
    "    return(echo_indices)    \n",
    "\n",
    "def get_echo_levels(sim_data, heard=True):\n",
    "    '''\n",
    "    '''\n",
    "    echo_ids = get_echoids(sim_data, heard)\n",
    "    \n",
    "    echo_levels = sim_data[1]['target_echoes'].loc[echo_ids,'level']\n",
    "    return(echo_levels)\n",
    "    \n",
    "\n",
    "def get_group_size(sim_data):\n",
    "    ''' This function is necessary because of the\n",
    "    stupid way I stored the parameter sets using classes\n",
    "    '''\n",
    "    num_bats_in_group = sim_data[0].size +1 \n",
    "    return(num_bats_in_group)\n",
    "\n",
    "def split_by_groupsize(df):\n",
    "    all_subdfs = []\n",
    "    group_sizes = np.unique(df['groupsize'])\n",
    "    for each_groupsize in group_sizes:\n",
    "        subdf = df[df['groupsize']==each_groupsize]\n",
    "        all_subdfs.append(subdf)\n",
    "    return(group_sizes, all_subdfs)\n",
    "\n",
    "\n",
    "\n",
    "def get_individual_positions(sim_data):\n",
    "    '''\n",
    "    '''\n",
    "    _, _b, geometry = sim_data\n",
    "    positions = geometry['positions']\n",
    "    return(positions)\n",
    "\n",
    "\n",
    "def get_detection_distance(sim_data, heard=True):\n",
    "    '''\n",
    "    '''\n",
    "    echo_inds = get_echoids(sim_data,heard)\n",
    "    individuals_inds = echo_inds +1 # because focal individ is 0 index\n",
    "    all_positions = get_individual_positions(sim_data)\n",
    "    heard_individual_positions = all_positions[individuals_inds,:]\n",
    "    focal_ind = all_positions[0,:]\n",
    "    distances = spatial.distance\n",
    "    \n",
    "    positions_of_relevance = np.row_stack((focal_ind, heard_individual_positions))\n",
    "    distances = spatial.distance_matrix(positions_of_relevance, \n",
    "                                        positions_of_relevance)[1:,0]\n",
    "    return(distances)"
   ]
  },
  {
   "cell_type": "code",
   "execution_count": 55,
   "metadata": {},
   "outputs": [],
   "source": [
    "### Load the data : this needs a decent amount of RAM !! and takes some time - remember this. "
   ]
  },
  {
   "cell_type": "code",
   "execution_count": 56,
   "metadata": {},
   "outputs": [
    {
     "name": "stderr",
     "output_type": "stream",
     "text": [
      "100%|██████████| 2132/2132 [00:48<00:00, 44.10it/s]\n"
     ]
    }
   ],
   "source": [
    "all_simulation_data = []\n",
    "for each in tqdm.tqdm(sim_results):\n",
    "    with open(each, 'rb') as sim:\n",
    "        output = pickle.load(sim)\n",
    "    all_simulation_data.append(output)"
   ]
  },
  {
   "cell_type": "code",
   "execution_count": 57,
   "metadata": {},
   "outputs": [],
   "source": [
    "sim_id, _ = all_simulation_data[0]"
   ]
  },
  {
   "cell_type": "code",
   "execution_count": 58,
   "metadata": {},
   "outputs": [],
   "source": [
    "params_of_interest = ['interpulse_interval', 'echocall_duration', 'implement_shadowing','source_level','min_spacing',\n",
    "                      'heading_variation', 'atmospheric_attenuation']"
   ]
  },
  {
   "cell_type": "code",
   "execution_count": 59,
   "metadata": {},
   "outputs": [],
   "source": [
    "def extract_sim_parameters(sim_output, parameters):\n",
    "    sim_id, _ = sim_output\n",
    "    set_params = []\n",
    "    for each in parameters:\n",
    "        if each == 'source_level':\n",
    "            set_params.append(sim_id['parameter_set'][each]['dBSPL'])\n",
    "        else:\n",
    "            set_params.append(sim_id['parameter_set'][each])\n",
    "    return(set_params)\n",
    "        "
   ]
  },
  {
   "cell_type": "code",
   "execution_count": 60,
   "metadata": {},
   "outputs": [],
   "source": [
    "all_param = []\n",
    "for each in all_simulation_data:\n",
    "    all_param.append(str(extract_sim_parameters(each,params_of_interest)))"
   ]
  },
  {
   "cell_type": "code",
   "execution_count": 61,
   "metadata": {},
   "outputs": [
    {
     "data": {
      "text/plain": [
       "(array(['[0.01, 0.001, False, 100, 0.5, 10, 0]',\n",
       "        '[0.01, 0.001, False, 100, 0.5, 90, 0]',\n",
       "        '[0.01, 0.001, False, 100, 1.0, 90, 0]',\n",
       "        '[0.01, 0.001, False, 106, 0.5, 10, 0]',\n",
       "        '[0.01, 0.001, False, 106, 0.5, 90, 0]',\n",
       "        '[0.01, 0.001, False, 106, 1.0, 10, 0]',\n",
       "        '[0.01, 0.001, False, 106, 1.0, 90, 0]',\n",
       "        '[0.01, 0.001, False, 94, 0.5, 10, 0]',\n",
       "        '[0.01, 0.001, False, 94, 0.5, 90, 0]',\n",
       "        '[0.01, 0.001, False, 94, 1.0, 10, 0]',\n",
       "        '[0.01, 0.001, False, 94, 1.0, 90, 0]',\n",
       "        '[0.01, 0.001, True, 100, 0.5, 10, 0]',\n",
       "        '[0.01, 0.001, True, 100, 0.5, 90, 0]',\n",
       "        '[0.01, 0.001, True, 100, 1.0, 10, 0]',\n",
       "        '[0.01, 0.001, True, 100, 1.0, 90, 0]',\n",
       "        '[0.01, 0.001, True, 106, 0.5, 10, 0]',\n",
       "        '[0.01, 0.001, True, 106, 0.5, 90, 0]',\n",
       "        '[0.01, 0.001, True, 106, 1.0, 10, 0]',\n",
       "        '[0.01, 0.001, True, 106, 1.0, 90, 0]',\n",
       "        '[0.01, 0.001, True, 94, 0.5, 10, 0]',\n",
       "        '[0.01, 0.001, True, 94, 0.5, 90, 0]',\n",
       "        '[0.01, 0.001, True, 94, 1.0, 10, 0]',\n",
       "        '[0.01, 0.001, True, 94, 1.0, 90, 0]',\n",
       "        '[0.01, 0.0025, False, 100, 0.5, 10, 0]',\n",
       "        '[0.01, 0.0025, False, 100, 0.5, 90, 0]',\n",
       "        '[0.01, 0.0025, False, 100, 1.0, 10, 0]',\n",
       "        '[0.01, 0.0025, False, 100, 1.0, 90, 0]',\n",
       "        '[0.01, 0.0025, False, 106, 0.5, 10, 0]',\n",
       "        '[0.01, 0.0025, False, 106, 1.0, 10, 0]',\n",
       "        '[0.01, 0.0025, False, 106, 1.0, 90, 0]',\n",
       "        '[0.01, 0.0025, False, 94, 0.5, 10, 0]',\n",
       "        '[0.01, 0.0025, False, 94, 0.5, 90, 0]',\n",
       "        '[0.01, 0.0025, False, 94, 1.0, 10, 0]',\n",
       "        '[0.01, 0.0025, False, 94, 1.0, 90, 0]',\n",
       "        '[0.01, 0.0025, True, 100, 0.5, 10, 0]',\n",
       "        '[0.01, 0.0025, True, 100, 1.0, 10, 0]',\n",
       "        '[0.01, 0.0025, True, 100, 1.0, 90, 0]',\n",
       "        '[0.01, 0.0025, True, 106, 0.5, 10, 0]',\n",
       "        '[0.01, 0.0025, True, 106, 0.5, 90, 0]',\n",
       "        '[0.01, 0.0025, True, 106, 1.0, 10, 0]',\n",
       "        '[0.01, 0.0025, True, 94, 0.5, 90, 0]',\n",
       "        '[0.01, 0.0025, True, 94, 1.0, 10, 0]',\n",
       "        '[0.01, 0.0025, True, 94, 1.0, 90, 0]'], dtype='|S38'),\n",
       " array([50, 50, 50, 50, 50, 50, 50, 50, 50, 50, 50, 50, 50, 50, 50, 50, 50,\n",
       "        50, 50, 32, 50, 50, 50, 50, 50, 50, 50, 50, 50, 50, 50, 50, 50, 50,\n",
       "        50, 50, 50, 50, 50, 50, 50, 50, 50]))"
      ]
     },
     "execution_count": 61,
     "metadata": {},
     "output_type": "execute_result"
    }
   ],
   "source": [
    "np.unique(all_param, return_counts=True)"
   ]
  },
  {
   "cell_type": "code",
   "execution_count": 62,
   "metadata": {},
   "outputs": [
    {
     "data": {
      "text/plain": [
       "(array([0, 1]), array([2124,    8]))"
      ]
     },
     "execution_count": 62,
     "metadata": {},
     "output_type": "execute_result"
    }
   ],
   "source": [
    "np.unique([sum(each[1][0]) for each in all_simulation_data], return_counts=True)"
   ]
  },
  {
   "cell_type": "code",
   "execution_count": null,
   "metadata": {},
   "outputs": [],
   "source": []
  }
 ],
 "metadata": {
  "kernelspec": {
   "display_name": "theCPN",
   "language": "python",
   "name": "thecpn"
  },
  "language_info": {
   "codemirror_mode": {
    "name": "ipython",
    "version": 2
   },
   "file_extension": ".py",
   "mimetype": "text/x-python",
   "name": "python",
   "nbconvert_exporter": "python",
   "pygments_lexer": "ipython2",
   "version": "2.7.15+"
  }
 },
 "nbformat": 4,
 "nbformat_minor": 2
}
