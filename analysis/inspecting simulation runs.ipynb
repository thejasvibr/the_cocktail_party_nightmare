{
 "cells": [
  {
   "cell_type": "code",
   "execution_count": 11,
   "metadata": {},
   "outputs": [],
   "source": [
    "import dill as pickle\n",
    "import glob \n",
    "import matplotlib.pyplot as plt\n",
    "import pandas as pd\n",
    "import scipy.spatial as spatial\n",
    "import sys \n",
    "sys.path.append('..//CPN//')\n",
    "import numpy as np \n",
    "import tqdm"
   ]
  },
  {
   "cell_type": "code",
   "execution_count": 12,
   "metadata": {},
   "outputs": [],
   "source": [
    "results_folder = '..//simulations/multivariable_simulations//'"
   ]
  },
  {
   "cell_type": "code",
   "execution_count": 13,
   "metadata": {},
   "outputs": [],
   "source": [
    "sim_results = glob.glob(results_folder+'*.simresults')"
   ]
  },
  {
   "cell_type": "code",
   "execution_count": 14,
   "metadata": {},
   "outputs": [],
   "source": [
    "## A series of functions to parse the  simulation output\n",
    "def get_num_echoes_heard(sim_data):\n",
    "    '''\n",
    "    '''\n",
    "    num_echoes_heard = np.sum(sim_data[0])\n",
    "    return(num_echoes_heard)\n",
    "\n",
    "which_echo = {True: 1 , False:0}\n",
    "\n",
    "def get_echoids(sim_data, heard=True):\n",
    "    '''\n",
    "    '''\n",
    "    echo_indices = np.argwhere(sim_data[0]==which_echo[heard]).flatten()\n",
    "    return(echo_indices)    \n",
    "\n",
    "def get_echo_levels(sim_data, heard=True):\n",
    "    '''\n",
    "    '''\n",
    "    echo_ids = get_echoids(sim_data, heard)\n",
    "    \n",
    "    echo_levels = sim_data[1]['target_echoes'].loc[echo_ids,'level']\n",
    "    return(echo_levels)\n",
    "    \n",
    "\n",
    "def get_group_size(sim_data):\n",
    "    ''' This function is necessary because of the\n",
    "    stupid way I stored the parameter sets using classes\n",
    "    '''\n",
    "    num_bats_in_group = sim_data[0].size +1 \n",
    "    return(num_bats_in_group)\n",
    "\n",
    "def split_by_groupsize(df):\n",
    "    all_subdfs = []\n",
    "    group_sizes = np.unique(df['groupsize'])\n",
    "    for each_groupsize in group_sizes:\n",
    "        subdf = df[df['groupsize']==each_groupsize]\n",
    "        all_subdfs.append(subdf)\n",
    "    return(group_sizes, all_subdfs)\n",
    "\n",
    "\n",
    "\n",
    "def get_individual_positions(sim_data):\n",
    "    '''\n",
    "    '''\n",
    "    _, _b, geometry = sim_data\n",
    "    positions = geometry['positions']\n",
    "    return(positions)\n",
    "\n",
    "\n",
    "def get_detection_distance(sim_data, heard=True):\n",
    "    '''\n",
    "    '''\n",
    "    echo_inds = get_echoids(sim_data,heard)\n",
    "    individuals_inds = echo_inds +1 # because focal individ is 0 index\n",
    "    all_positions = get_individual_positions(sim_data)\n",
    "    heard_individual_positions = all_positions[individuals_inds,:]\n",
    "    focal_ind = all_positions[0,:]\n",
    "    distances = spatial.distance\n",
    "    \n",
    "    positions_of_relevance = np.row_stack((focal_ind, heard_individual_positions))\n",
    "    distances = spatial.distance_matrix(positions_of_relevance, \n",
    "                                        positions_of_relevance)[1:,0]\n",
    "    return(distances)"
   ]
  },
  {
   "cell_type": "code",
   "execution_count": 15,
   "metadata": {},
   "outputs": [],
   "source": [
    "### Load the data : this needs a decent amount of RAM !! and takes some time - remember this. "
   ]
  },
  {
   "cell_type": "code",
   "execution_count": 16,
   "metadata": {},
   "outputs": [
    {
     "name": "stderr",
     "output_type": "stream",
     "text": [
      "100%|██████████| 8/8 [00:00<00:00, 20.22it/s]\n"
     ]
    }
   ],
   "source": [
    "all_simulation_data = []\n",
    "for each in tqdm.tqdm(sim_results):\n",
    "    with open(each, 'rb') as sim:\n",
    "        output = pickle.load(sim)\n",
    "    all_simulation_data.append(output)"
   ]
  },
  {
   "cell_type": "code",
   "execution_count": 17,
   "metadata": {},
   "outputs": [],
   "source": [
    "sim_id, _ = all_simulation_data[0]"
   ]
  },
  {
   "cell_type": "code",
   "execution_count": 18,
   "metadata": {},
   "outputs": [],
   "source": [
    "params_of_interest = ['interpulse_interval', 'echocall_duration', 'implement_shadowing','source_level','min_spacing',\n",
    "                      'heading_variation', 'atmospheric_attenuation']"
   ]
  },
  {
   "cell_type": "code",
   "execution_count": 19,
   "metadata": {},
   "outputs": [],
   "source": [
    "def extract_sim_parameters(sim_output, parameters):\n",
    "    sim_id, _ = sim_output\n",
    "    set_params = []\n",
    "    for each in parameters:\n",
    "        if each == 'source_level':\n",
    "            set_params.append(sim_id['parameter_set'][each]['dBSPL'])\n",
    "        else:\n",
    "            set_params.append(sim_id['parameter_set'][each])\n",
    "    return(set_params)\n",
    "        "
   ]
  },
  {
   "cell_type": "code",
   "execution_count": 21,
   "metadata": {},
   "outputs": [],
   "source": [
    "all_param = []\n",
    "for each in all_simulation_data:\n",
    "    all_param.append(str(extract_sim_parameters(each,params_of_interest)))"
   ]
  },
  {
   "cell_type": "code",
   "execution_count": 23,
   "metadata": {},
   "outputs": [
    {
     "data": {
      "text/plain": [
       "(array(['[0.05, 0.001, False, 106, 1.0, 90, 0]',\n",
       "        '[0.1, 0.001, False, 100, 0.5, 90, 0]',\n",
       "        '[0.1, 0.0025, True, 100, 1.0, 90, 0]',\n",
       "        '[0.1, 0.0025, True, 94, 1.0, 10, 0]'], dtype='|S37'),\n",
       " array([2, 2, 2, 2]))"
      ]
     },
     "execution_count": 23,
     "metadata": {},
     "output_type": "execute_result"
    }
   ],
   "source": [
    "np.unique(all_param, return_counts=True)"
   ]
  },
  {
   "cell_type": "code",
   "execution_count": null,
   "metadata": {},
   "outputs": [],
   "source": []
  }
 ],
 "metadata": {
  "kernelspec": {
   "display_name": "Python [conda env:theCPN]",
   "language": "python",
   "name": "conda-env-theCPN-py"
  },
  "language_info": {
   "codemirror_mode": {
    "name": "ipython",
    "version": 2
   },
   "file_extension": ".py",
   "mimetype": "text/x-python",
   "name": "python",
   "nbconvert_exporter": "python",
   "pygments_lexer": "ipython2",
   "version": "2.7.15"
  }
 },
 "nbformat": 4,
 "nbformat_minor": 2
}
